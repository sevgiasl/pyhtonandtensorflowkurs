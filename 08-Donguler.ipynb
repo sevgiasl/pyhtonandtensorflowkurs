{
 "cells": [
  {
   "cell_type": "code",
   "execution_count": 1,
   "id": "3753677f",
   "metadata": {},
   "outputs": [],
   "source": [
    "benimListem=[10,20,30,40,50]"
   ]
  },
  {
   "cell_type": "code",
   "execution_count": 2,
   "id": "6b36f593",
   "metadata": {},
   "outputs": [
    {
     "name": "stdout",
     "output_type": "stream",
     "text": [
      "evet içerisinde mevcut\n"
     ]
    }
   ],
   "source": [
    "if 10 in benimListem:\n",
    "    print(\"evet içerisinde mevcut\")"
   ]
  },
  {
   "cell_type": "code",
   "execution_count": 3,
   "id": "90a4f782",
   "metadata": {},
   "outputs": [
    {
     "data": {
      "text/plain": [
       "16.666666666666668"
      ]
     },
     "execution_count": 3,
     "metadata": {},
     "output_type": "execute_result"
    }
   ],
   "source": [
    "benimListem[0]*5/3"
   ]
  },
  {
   "cell_type": "code",
   "execution_count": 4,
   "id": "68f8825e",
   "metadata": {},
   "outputs": [
    {
     "data": {
      "text/plain": [
       "33.333333333333336"
      ]
     },
     "execution_count": 4,
     "metadata": {},
     "output_type": "execute_result"
    }
   ],
   "source": [
    "benimListem[1]*5/3"
   ]
  },
  {
   "cell_type": "code",
   "execution_count": 7,
   "id": "c2e9acc5",
   "metadata": {},
   "outputs": [
    {
     "name": "stdout",
     "output_type": "stream",
     "text": [
      "döngü başladı\n",
      "16.666666666666668\n",
      "33.333333333333336\n",
      "50.0\n",
      "66.66666666666667\n",
      "83.33333333333333\n",
      "döngü bitti\n"
     ]
    }
   ],
   "source": [
    "print(\"döngü başladı\")\n",
    "for numara in benimListem:\n",
    "    print(numara*5/3)\n",
    "print(\"döngü bitti\")"
   ]
  },
  {
   "cell_type": "code",
   "execution_count": 9,
   "id": "3c75b138",
   "metadata": {},
   "outputs": [
    {
     "name": "stdout",
     "output_type": "stream",
     "text": [
      "16.666666666666668\n",
      "33.333333333333336\n",
      "50.0\n",
      "66.66666666666667\n",
      "83.33333333333333\n"
     ]
    }
   ],
   "source": [
    "for num in benimListem:\n",
    "    yeniNumara=num*5/3\n",
    "    print(yeniNumara)"
   ]
  },
  {
   "cell_type": "code",
   "execution_count": 15,
   "id": "4203d37c",
   "metadata": {},
   "outputs": [],
   "source": [
    "yeniListe=[1,2,3,4,5,6]"
   ]
  },
  {
   "cell_type": "code",
   "execution_count": 17,
   "id": "3d967209",
   "metadata": {},
   "outputs": [
    {
     "name": "stdout",
     "output_type": "stream",
     "text": [
      "2\n",
      "4\n",
      "6\n"
     ]
    }
   ],
   "source": [
    "for rakam in yeniListe:\n",
    "  if rakam%2==0:\n",
    "    print(rakam)"
   ]
  },
  {
   "cell_type": "code",
   "execution_count": 20,
   "id": "8fee6d63",
   "metadata": {},
   "outputs": [],
   "source": [
    "yeniString=\"Atıl Samancıoğlu\""
   ]
  },
  {
   "cell_type": "code",
   "execution_count": 21,
   "id": "8ad58198",
   "metadata": {},
   "outputs": [
    {
     "name": "stdout",
     "output_type": "stream",
     "text": [
      "A\n",
      "t\n",
      "ı\n",
      "l\n",
      " \n",
      "S\n",
      "a\n",
      "m\n",
      "a\n",
      "n\n",
      "c\n",
      "ı\n",
      "o\n",
      "ğ\n",
      "l\n",
      "u\n"
     ]
    }
   ],
   "source": [
    "for harf in yeniString:\n",
    "    print(harf)"
   ]
  },
  {
   "cell_type": "code",
   "execution_count": 22,
   "id": "d87b5d3f",
   "metadata": {},
   "outputs": [],
   "source": [
    "benimTuple=(1,2,3,4,5)"
   ]
  },
  {
   "cell_type": "code",
   "execution_count": 23,
   "id": "a811d147",
   "metadata": {},
   "outputs": [
    {
     "name": "stdout",
     "output_type": "stream",
     "text": [
      "1\n",
      "2\n",
      "3\n",
      "4\n",
      "5\n"
     ]
    }
   ],
   "source": [
    "for eleman in benimTuple:\n",
    "    print(eleman)"
   ]
  },
  {
   "cell_type": "code",
   "execution_count": 29,
   "id": "eb99043e",
   "metadata": {},
   "outputs": [],
   "source": [
    "koordinatlarListesi=[(10.2,15.2),(32.4,16.2),(40.2,20.2)]"
   ]
  },
  {
   "cell_type": "code",
   "execution_count": 30,
   "id": "f22536dd",
   "metadata": {},
   "outputs": [
    {
     "data": {
      "text/plain": [
       "tuple"
      ]
     },
     "execution_count": 30,
     "metadata": {},
     "output_type": "execute_result"
    }
   ],
   "source": [
    "type(koordinatlarListesi[0])"
   ]
  },
  {
   "cell_type": "code",
   "execution_count": 33,
   "id": "f08d6216",
   "metadata": {},
   "outputs": [
    {
     "name": "stdout",
     "output_type": "stream",
     "text": [
      "(10.2, 15.2)\n",
      "(32.4, 16.2)\n",
      "(40.2, 20.2)\n"
     ]
    }
   ],
   "source": [
    "for eleman in koordinatlarListesi:\n",
    "    print(eleman)"
   ]
  },
  {
   "cell_type": "code",
   "execution_count": 34,
   "id": "74fb077a",
   "metadata": {},
   "outputs": [
    {
     "name": "stdout",
     "output_type": "stream",
     "text": [
      "15.2\n",
      "16.2\n",
      "20.2\n"
     ]
    }
   ],
   "source": [
    "for (x,y) in koordinatlarListesi:\n",
    "    print(y)"
   ]
  },
  {
   "cell_type": "code",
   "execution_count": 36,
   "id": "fcc30ecd",
   "metadata": {},
   "outputs": [],
   "source": [
    "benimGaripListem=[(1,2,3),(4,5,6),(7,8,9)]"
   ]
  },
  {
   "cell_type": "code",
   "execution_count": 37,
   "id": "7988e277",
   "metadata": {},
   "outputs": [
    {
     "name": "stdout",
     "output_type": "stream",
     "text": [
      "3\n",
      "6\n",
      "9\n"
     ]
    }
   ],
   "source": [
    "for (x,y,z) in benimGaripListem:\n",
    "    print(z)"
   ]
  },
  {
   "cell_type": "code",
   "execution_count": 38,
   "id": "64c80c43",
   "metadata": {},
   "outputs": [],
   "source": [
    "benimSozluk={\"muz\":150,\"portakal\":250,\"elma\":400}"
   ]
  },
  {
   "cell_type": "code",
   "execution_count": 39,
   "id": "c6a3cb05",
   "metadata": {},
   "outputs": [
    {
     "data": {
      "text/plain": [
       "dict_items([('muz', 150), ('portakal', 250), ('elma', 400)])"
      ]
     },
     "execution_count": 39,
     "metadata": {},
     "output_type": "execute_result"
    }
   ],
   "source": [
    "benimSozluk.items()"
   ]
  },
  {
   "cell_type": "code",
   "execution_count": 40,
   "id": "a1ff241d",
   "metadata": {},
   "outputs": [
    {
     "data": {
      "text/plain": [
       "dict_items"
      ]
     },
     "execution_count": 40,
     "metadata": {},
     "output_type": "execute_result"
    }
   ],
   "source": [
    "type(benimSozluk.items())"
   ]
  },
  {
   "cell_type": "code",
   "execution_count": 42,
   "id": "b5739e1b",
   "metadata": {},
   "outputs": [
    {
     "name": "stdout",
     "output_type": "stream",
     "text": [
      "muz 150\n",
      "portakal 250\n",
      "elma 400\n"
     ]
    }
   ],
   "source": [
    "for (anahtar,deger) in benimSozluk.items():\n",
    "    print(anahtar,deger)"
   ]
  }
 ],
 "metadata": {
  "kernelspec": {
   "display_name": "Python 3 (ipykernel)",
   "language": "python",
   "name": "python3"
  },
  "language_info": {
   "codemirror_mode": {
    "name": "ipython",
    "version": 3
   },
   "file_extension": ".py",
   "mimetype": "text/x-python",
   "name": "python",
   "nbconvert_exporter": "python",
   "pygments_lexer": "ipython3",
   "version": "3.11.5"
  }
 },
 "nbformat": 4,
 "nbformat_minor": 5
}
