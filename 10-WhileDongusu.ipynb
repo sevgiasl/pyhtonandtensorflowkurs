{
 "cells": [
  {
   "cell_type": "code",
   "execution_count": 1,
   "id": "6fcfeded",
   "metadata": {},
   "outputs": [
    {
     "name": "stdout",
     "output_type": "stream",
     "text": [
      "0\n",
      "1\n",
      "2\n",
      "3\n",
      "4\n",
      "5\n",
      "6\n",
      "7\n",
      "8\n",
      "9\n"
     ]
    }
   ],
   "source": [
    "x=0\n",
    "while x<10:\n",
    "    print(x)\n",
    "    x=x+1"
   ]
  },
  {
   "cell_type": "code",
   "execution_count": 2,
   "id": "35b82b08",
   "metadata": {},
   "outputs": [],
   "source": [
    "benimListem=[1,2,3,4,5]"
   ]
  },
  {
   "cell_type": "code",
   "execution_count": 3,
   "id": "f87b572c",
   "metadata": {},
   "outputs": [
    {
     "data": {
      "text/plain": [
       "5"
      ]
     },
     "execution_count": 3,
     "metadata": {},
     "output_type": "execute_result"
    }
   ],
   "source": [
    "benimListem.pop()"
   ]
  },
  {
   "cell_type": "code",
   "execution_count": 4,
   "id": "929e29fd",
   "metadata": {},
   "outputs": [
    {
     "data": {
      "text/plain": [
       "[1, 2, 3, 4]"
      ]
     },
     "execution_count": 4,
     "metadata": {},
     "output_type": "execute_result"
    }
   ],
   "source": [
    "benimListem"
   ]
  },
  {
   "cell_type": "code",
   "execution_count": 5,
   "id": "256a25ee",
   "metadata": {},
   "outputs": [],
   "source": [
    "benimListem.append(5)"
   ]
  },
  {
   "cell_type": "code",
   "execution_count": 6,
   "id": "6a06ebda",
   "metadata": {},
   "outputs": [
    {
     "data": {
      "text/plain": [
       "[1, 2, 3, 4, 5]"
      ]
     },
     "execution_count": 6,
     "metadata": {},
     "output_type": "execute_result"
    }
   ],
   "source": [
    "benimListem"
   ]
  },
  {
   "cell_type": "code",
   "execution_count": 7,
   "id": "bdce65a4",
   "metadata": {},
   "outputs": [
    {
     "name": "stdout",
     "output_type": "stream",
     "text": [
      "3 hala listenin içerisinde\n",
      "3 hala listenin içerisinde\n",
      "3 hala listenin içerisinde\n"
     ]
    }
   ],
   "source": [
    "while 3 in benimListem:\n",
    "    print(\"3 hala listenin içerisinde\")\n",
    "    benimListem.pop()"
   ]
  },
  {
   "cell_type": "code",
   "execution_count": 8,
   "id": "1a3e8f48",
   "metadata": {},
   "outputs": [],
   "source": [
    "numara=0"
   ]
  },
  {
   "cell_type": "code",
   "execution_count": 9,
   "id": "46e7f8f9",
   "metadata": {},
   "outputs": [
    {
     "name": "stdout",
     "output_type": "stream",
     "text": [
      "0\n",
      "1\n",
      "2\n",
      "3\n"
     ]
    }
   ],
   "source": [
    "while numara<5:\n",
    "    if numara==4:\n",
    "        break\n",
    "    print(numara)\n",
    "    numara=numara+1"
   ]
  },
  {
   "cell_type": "code",
   "execution_count": 10,
   "id": "215cc5af",
   "metadata": {},
   "outputs": [],
   "source": [
    "yeniDegisken=0"
   ]
  },
  {
   "cell_type": "code",
   "execution_count": 11,
   "id": "d22d339e",
   "metadata": {},
   "outputs": [
    {
     "name": "stdout",
     "output_type": "stream",
     "text": [
      "yeniDegisken in güncel değeri: 0\n",
      "yeniDegisken in güncel değeri: 1\n",
      "yeniDegisken in güncel değeri: 2\n",
      "yeniDegisken in güncel değeri: 3\n",
      "yeniDegisken in güncel değeri: 4\n",
      "yeniDegisken in güncel değeri: 5\n",
      "yeniDegisken in güncel değeri: 6\n",
      "yeniDegisken in güncel değeri: 7\n",
      "yeniDegisken in güncel değeri: 8\n",
      "yeniDegisken in güncel değeri: 9\n",
      "yeniDegisken in güncel değeri: 10\n",
      "yeniDegisken in güncel değeri: 11\n",
      "yeniDegisken in güncel değeri: 12\n",
      "yeniDegisken in güncel değeri: 13\n",
      "yeniDegisken in güncel değeri: 14\n"
     ]
    }
   ],
   "source": [
    "while yeniDegisken<15:\n",
    "    print(\"yeniDegisken in güncel değeri: \"+str(yeniDegisken))\n",
    "    yeniDegisken=yeniDegisken+1"
   ]
  },
  {
   "cell_type": "code",
   "execution_count": 13,
   "id": "cc139a48",
   "metadata": {},
   "outputs": [
    {
     "name": "stdout",
     "output_type": "stream",
     "text": [
      "yeniDegisken in güncel değeri: 0\n",
      "yeniDegisken in güncel değeri: 1\n",
      "yeniDegisken in güncel değeri: 2\n",
      "yeniDegisken in güncel değeri: 3\n",
      "yeniDegisken in güncel değeri: 4\n",
      "yeniDegisken in güncel değeri: 5\n",
      "yeniDegisken in güncel değeri: 6\n",
      "yeniDegisken in güncel değeri: 7\n",
      "yeniDegisken in güncel değeri: 8\n",
      "yeniDegisken in güncel değeri: 9\n",
      "yeniDegisken in güncel değeri: 10\n",
      "yeniDegisken in güncel değeri: 11\n",
      "yeniDegisken in güncel değeri: 12\n",
      "yeniDegisken in güncel değeri: 13\n",
      "yeniDegisken in güncel değeri: 14\n"
     ]
    }
   ],
   "source": [
    "yeniDegisken=0\n",
    "while yeniDegisken<15:\n",
    "    print(f\"yeniDegisken in güncel değeri: {yeniDegisken}\")\n",
    "    yeniDegisken=yeniDegisken+1"
   ]
  },
  {
   "cell_type": "code",
   "execution_count": null,
   "id": "dce02dbf",
   "metadata": {},
   "outputs": [],
   "source": []
  }
 ],
 "metadata": {
  "kernelspec": {
   "display_name": "Python 3 (ipykernel)",
   "language": "python",
   "name": "python3"
  },
  "language_info": {
   "codemirror_mode": {
    "name": "ipython",
    "version": 3
   },
   "file_extension": ".py",
   "mimetype": "text/x-python",
   "name": "python",
   "nbconvert_exporter": "python",
   "pygments_lexer": "ipython3",
   "version": "3.11.5"
  }
 },
 "nbformat": 4,
 "nbformat_minor": 5
}
