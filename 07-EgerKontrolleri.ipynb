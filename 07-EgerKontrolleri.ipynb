{
 "cells": [
  {
   "cell_type": "code",
   "execution_count": 1,
   "id": "a9873402",
   "metadata": {},
   "outputs": [
    {
     "data": {
      "text/plain": [
       "True"
      ]
     },
     "execution_count": 1,
     "metadata": {},
     "output_type": "execute_result"
    }
   ],
   "source": [
    "3>1"
   ]
  },
  {
   "cell_type": "code",
   "execution_count": 4,
   "id": "ec86a6eb",
   "metadata": {},
   "outputs": [
    {
     "name": "stdout",
     "output_type": "stream",
     "text": [
      "atıl samancıoğlu\n",
      "if koşulu sağlandı\n",
      "if koşulunun dışına çıktık\n"
     ]
    }
   ],
   "source": [
    "if 3>1:\n",
    "    print(\"atıl samancıoğlu\")\n",
    "    print(\"if koşulu sağlandı\")\n",
    "print(\"if koşulunun dışına çıktık\")"
   ]
  },
  {
   "cell_type": "code",
   "execution_count": 8,
   "id": "f7e3e2e0",
   "metadata": {},
   "outputs": [],
   "source": [
    "x=3\n",
    "y=4"
   ]
  },
  {
   "cell_type": "code",
   "execution_count": 9,
   "id": "63d25d37",
   "metadata": {},
   "outputs": [
    {
     "name": "stdout",
     "output_type": "stream",
     "text": [
      "y,x den büyükmüş\n"
     ]
    }
   ],
   "source": [
    "if x>y:\n",
    "    print(\"x, y'den daha büyükmüş\")\n",
    "elif y>x:\n",
    "    print(\"y,x den büyükmüş\")\n",
    "else:\n",
    "    print(\"x,y ye eşitmiş\")\n",
    "    "
   ]
  },
  {
   "cell_type": "code",
   "execution_count": 15,
   "id": "650dc991",
   "metadata": {},
   "outputs": [
    {
     "name": "stdout",
     "output_type": "stream",
     "text": [
      "Süper Kahraman seçiniz: Batman\n"
     ]
    }
   ],
   "source": [
    "benimKahramanim=input(\"Süper Kahraman seçiniz: \")"
   ]
  },
  {
   "cell_type": "code",
   "execution_count": 16,
   "id": "1e360fe1",
   "metadata": {},
   "outputs": [
    {
     "name": "stdout",
     "output_type": "stream",
     "text": [
      "Batman'i seçtiniz tebrikler\n"
     ]
    }
   ],
   "source": [
    "if benimKahramanim==\"Batman\":\n",
    "    print(\"Batman'i seçtiniz tebrikler\")\n",
    "elif benimKahramanim==\"Superman\":\n",
    "    print(\"Keşke BAtman'i seçseydiniz\")\n",
    "elif benimKahramanim==\"Ironman\":\n",
    "    print(\"Ironman kimdir\")\n",
    "else:\n",
    "    print(\"Bu kim gerçekten bilmiyoruz\")"
   ]
  },
  {
   "cell_type": "code",
   "execution_count": 17,
   "id": "ba8e1be8",
   "metadata": {},
   "outputs": [],
   "source": [
    "a=10\n",
    "b=20\n",
    "c=30"
   ]
  },
  {
   "cell_type": "code",
   "execution_count": 20,
   "id": "92fdf6ad",
   "metadata": {},
   "outputs": [
    {
     "name": "stdout",
     "output_type": "stream",
     "text": [
      "a,den küçük ve b de c den küçük\n"
     ]
    }
   ],
   "source": [
    "if a>b and b>c:\n",
    "    print(\"a,b den büyük ve b de c den  büyük\")\n",
    "elif a<b and b<c:\n",
    "    print(\"a,den küçük ve b de c den küçük\")\n",
    "else:\n",
    "    print(\"koşullar sağlanmadı\")"
   ]
  },
  {
   "cell_type": "code",
   "execution_count": 21,
   "id": "a3ad882b",
   "metadata": {},
   "outputs": [],
   "source": [
    "m=10\n",
    "k=4\n",
    "l=1"
   ]
  },
  {
   "cell_type": "code",
   "execution_count": 22,
   "id": "4bf20046",
   "metadata": {},
   "outputs": [
    {
     "name": "stdout",
     "output_type": "stream",
     "text": [
      "bu çalıştırılacak mı\n"
     ]
    }
   ],
   "source": [
    "if m>k or  k>1:\n",
    "    print(\"bu çalıştırılacak mı\")"
   ]
  },
  {
   "cell_type": "code",
   "execution_count": 31,
   "id": "ba0f0f8f",
   "metadata": {},
   "outputs": [],
   "source": [
    "karakterCanli=False"
   ]
  },
  {
   "cell_type": "code",
   "execution_count": 32,
   "id": "051ac580",
   "metadata": {},
   "outputs": [
    {
     "name": "stdout",
     "output_type": "stream",
     "text": [
      "oyun karakteriniz yaşamıyor\n"
     ]
    }
   ],
   "source": [
    "if karakterCanli:#==True\n",
    "    print(\"oyun karakteriniz yaşıyor \")\n",
    "else:\n",
    "    print(\"oyun karakteriniz yaşamıyor\")\n",
    "    "
   ]
  },
  {
   "cell_type": "code",
   "execution_count": 33,
   "id": "c88c7101",
   "metadata": {},
   "outputs": [
    {
     "name": "stdout",
     "output_type": "stream",
     "text": [
      "karakter canlı değil\n"
     ]
    }
   ],
   "source": [
    "if not karakterCanli:\n",
    "    print(\"karakter canlı değil\")"
   ]
  },
  {
   "cell_type": "code",
   "execution_count": 34,
   "id": "d4111522",
   "metadata": {},
   "outputs": [],
   "source": [
    "benimString=\"Atıl Samancıoğlu\""
   ]
  },
  {
   "cell_type": "code",
   "execution_count": 35,
   "id": "1fc28538",
   "metadata": {},
   "outputs": [
    {
     "name": "stdout",
     "output_type": "stream",
     "text": [
      "eşit değilmiş\n"
     ]
    }
   ],
   "source": [
    "if benimString==\"atıl Samancıoğlu\":\n",
    "    print(eşitmiş)\n",
    "else:\n",
    "    print(\"eşit değilmiş\")"
   ]
  },
  {
   "cell_type": "code",
   "execution_count": 38,
   "id": "4480c80b",
   "metadata": {},
   "outputs": [
    {
     "name": "stdout",
     "output_type": "stream",
     "text": [
      "varmış\n"
     ]
    }
   ],
   "source": [
    "if \"Samancıoğlu\" in benimString:\n",
    "    print(\"varmış\")\n",
    "else:\n",
    "    print(\"yokmuş\")"
   ]
  },
  {
   "cell_type": "code",
   "execution_count": 39,
   "id": "b45d7c15",
   "metadata": {},
   "outputs": [],
   "source": [
    "benimListem=[10,20,30,40,50]"
   ]
  },
  {
   "cell_type": "code",
   "execution_count": 41,
   "id": "79f18e7c",
   "metadata": {},
   "outputs": [
    {
     "name": "stdout",
     "output_type": "stream",
     "text": [
      "hayır yok\n"
     ]
    }
   ],
   "source": [
    "if 60 in benimListem:\n",
    "    print(\"evet var\")\n",
    "else:\n",
    "    print(\"hayır yok\")"
   ]
  },
  {
   "cell_type": "code",
   "execution_count": 42,
   "id": "05820626",
   "metadata": {},
   "outputs": [],
   "source": [
    "benimSozluk={\"muz\":100,\"elma\":150,\"karpuz\":500}"
   ]
  },
  {
   "cell_type": "code",
   "execution_count": 45,
   "id": "3a24a4ea",
   "metadata": {},
   "outputs": [
    {
     "name": "stdout",
     "output_type": "stream",
     "text": [
      "varmış\n"
     ]
    }
   ],
   "source": [
    "if \"muz\" in benimSozluk.keys():\n",
    "    print(\"varmış\")"
   ]
  },
  {
   "cell_type": "code",
   "execution_count": null,
   "id": "2347860b",
   "metadata": {},
   "outputs": [],
   "source": []
  }
 ],
 "metadata": {
  "kernelspec": {
   "display_name": "Python 3 (ipykernel)",
   "language": "python",
   "name": "python3"
  },
  "language_info": {
   "codemirror_mode": {
    "name": "ipython",
    "version": 3
   },
   "file_extension": ".py",
   "mimetype": "text/x-python",
   "name": "python",
   "nbconvert_exporter": "python",
   "pygments_lexer": "ipython3",
   "version": "3.11.5"
  }
 },
 "nbformat": 4,
 "nbformat_minor": 5
}
