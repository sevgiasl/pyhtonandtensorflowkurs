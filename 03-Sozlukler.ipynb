{
 "cells": [
  {
   "cell_type": "code",
   "execution_count": 1,
   "id": "8552a7c3",
   "metadata": {},
   "outputs": [],
   "source": [
    "#key-value-pairing(anahtar-kelime -değer eşleşmesi)"
   ]
  },
  {
   "cell_type": "code",
   "execution_count": 2,
   "id": "482a5112",
   "metadata": {},
   "outputs": [],
   "source": [
    "benimYemeklerim=[\"Elma\",\"Karpuz\",\"Muz\"]"
   ]
  },
  {
   "cell_type": "code",
   "execution_count": 3,
   "id": "c4b336f5",
   "metadata": {},
   "outputs": [],
   "source": [
    "benimKalorilerim=[100,200,300]"
   ]
  },
  {
   "cell_type": "code",
   "execution_count": 4,
   "id": "cc8897af",
   "metadata": {},
   "outputs": [],
   "source": [
    "#dictionary"
   ]
  },
  {
   "cell_type": "code",
   "execution_count": 5,
   "id": "f013a461",
   "metadata": {},
   "outputs": [],
   "source": [
    "benimSozluk={\"anahtar kelime\":\"değer\"}"
   ]
  },
  {
   "cell_type": "code",
   "execution_count": 6,
   "id": "bc1bf08d",
   "metadata": {},
   "outputs": [
    {
     "data": {
      "text/plain": [
       "dict"
      ]
     },
     "execution_count": 6,
     "metadata": {},
     "output_type": "execute_result"
    }
   ],
   "source": [
    "type(benimSozluk)"
   ]
  },
  {
   "cell_type": "code",
   "execution_count": 8,
   "id": "2d4e0bf2",
   "metadata": {},
   "outputs": [
    {
     "data": {
      "text/plain": [
       "'değer'"
      ]
     },
     "execution_count": 8,
     "metadata": {},
     "output_type": "execute_result"
    }
   ],
   "source": [
    "benimSozluk[\"anahtar kelime\"]"
   ]
  },
  {
   "cell_type": "code",
   "execution_count": 9,
   "id": "faf34bb5",
   "metadata": {},
   "outputs": [],
   "source": [
    "benimKaloriSozlugum={\"elma\":100,\"karpuz\":200,\"muz\":300}"
   ]
  },
  {
   "cell_type": "code",
   "execution_count": 10,
   "id": "4c5fce52",
   "metadata": {},
   "outputs": [
    {
     "data": {
      "text/plain": [
       "300"
      ]
     },
     "execution_count": 10,
     "metadata": {},
     "output_type": "execute_result"
    }
   ],
   "source": [
    "benimKaloriSozlugum[\"muz\"]"
   ]
  },
  {
   "cell_type": "code",
   "execution_count": 11,
   "id": "dd6c7ce7",
   "metadata": {},
   "outputs": [],
   "source": [
    "benimKaloriSozlugum[\"elma\"]=200"
   ]
  },
  {
   "cell_type": "code",
   "execution_count": 12,
   "id": "b6c5c5b3",
   "metadata": {},
   "outputs": [
    {
     "data": {
      "text/plain": [
       "{'elma': 200, 'karpuz': 200, 'muz': 300}"
      ]
     },
     "execution_count": 12,
     "metadata": {},
     "output_type": "execute_result"
    }
   ],
   "source": [
    "benimKaloriSozlugum"
   ]
  },
  {
   "cell_type": "code",
   "execution_count": 13,
   "id": "b7d7c8aa",
   "metadata": {},
   "outputs": [],
   "source": [
    "benimDegisikSozlugum={150:\"atıl\",-2:\"atlas\"}"
   ]
  },
  {
   "cell_type": "code",
   "execution_count": 14,
   "id": "6b8e7a2c",
   "metadata": {},
   "outputs": [
    {
     "data": {
      "text/plain": [
       "'atıl'"
      ]
     },
     "execution_count": 14,
     "metadata": {},
     "output_type": "execute_result"
    }
   ],
   "source": [
    "benimDegisikSozlugum[150]"
   ]
  },
  {
   "cell_type": "code",
   "execution_count": 17,
   "id": "ef839d62",
   "metadata": {},
   "outputs": [],
   "source": [
    "yeniDictionary={\"anahtar1\":100,\"anahtar2\":[10,20,30,4.5,\"atıl\"],\"anahtar3\":{\"anahtar9\":4}}"
   ]
  },
  {
   "cell_type": "code",
   "execution_count": 18,
   "id": "916b9db7",
   "metadata": {},
   "outputs": [
    {
     "data": {
      "text/plain": [
       "dict_keys(['anahtar1', 'anahtar2', 'anahtar3'])"
      ]
     },
     "execution_count": 18,
     "metadata": {},
     "output_type": "execute_result"
    }
   ],
   "source": [
    "yeniDictionary.keys()"
   ]
  },
  {
   "cell_type": "code",
   "execution_count": 21,
   "id": "c3ae3352",
   "metadata": {},
   "outputs": [
    {
     "data": {
      "text/plain": [
       "dict_values([100, [10, 20, 30, 4.5, 'atıl'], {'anahtar9': 4}])"
      ]
     },
     "execution_count": 21,
     "metadata": {},
     "output_type": "execute_result"
    }
   ],
   "source": [
    "yeniDictionary.values()"
   ]
  },
  {
   "cell_type": "code",
   "execution_count": 22,
   "id": "90214bde",
   "metadata": {},
   "outputs": [
    {
     "data": {
      "text/plain": [
       "'atıl'"
      ]
     },
     "execution_count": 22,
     "metadata": {},
     "output_type": "execute_result"
    }
   ],
   "source": [
    "yeniDictionary[\"anahtar2\"][4]"
   ]
  },
  {
   "cell_type": "code",
   "execution_count": 24,
   "id": "2c6189f6",
   "metadata": {},
   "outputs": [
    {
     "data": {
      "text/plain": [
       "4"
      ]
     },
     "execution_count": 24,
     "metadata": {},
     "output_type": "execute_result"
    }
   ],
   "source": [
    "yeniDictionary[\"anahtar3\"][\"anahtar9\"]"
   ]
  }
 ],
 "metadata": {
  "kernelspec": {
   "display_name": "Python 3 (ipykernel)",
   "language": "python",
   "name": "python3"
  },
  "language_info": {
   "codemirror_mode": {
    "name": "ipython",
    "version": 3
   },
   "file_extension": ".py",
   "mimetype": "text/x-python",
   "name": "python",
   "nbconvert_exporter": "python",
   "pygments_lexer": "ipython3",
   "version": "3.11.5"
  }
 },
 "nbformat": 4,
 "nbformat_minor": 5
}
