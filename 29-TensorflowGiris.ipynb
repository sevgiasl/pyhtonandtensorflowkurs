{
 "cells": [
  {
   "cell_type": "code",
   "execution_count": 1,
   "id": "09841f13",
   "metadata": {},
   "outputs": [],
   "source": [
    "import pandas as pd"
   ]
  },
  {
   "cell_type": "code",
   "execution_count": 2,
   "id": "91f9eed0",
   "metadata": {},
   "outputs": [],
   "source": [
    "dataFrame=pd.read_excel(\"bisiklet_fiyatlari.xlsx\")"
   ]
  },
  {
   "cell_type": "code",
   "execution_count": 3,
   "id": "64a9656d",
   "metadata": {},
   "outputs": [
    {
     "data": {
      "text/html": [
       "<div>\n",
       "<style scoped>\n",
       "    .dataframe tbody tr th:only-of-type {\n",
       "        vertical-align: middle;\n",
       "    }\n",
       "\n",
       "    .dataframe tbody tr th {\n",
       "        vertical-align: top;\n",
       "    }\n",
       "\n",
       "    .dataframe thead th {\n",
       "        text-align: right;\n",
       "    }\n",
       "</style>\n",
       "<table border=\"1\" class=\"dataframe\">\n",
       "  <thead>\n",
       "    <tr style=\"text-align: right;\">\n",
       "      <th></th>\n",
       "      <th>Fiyat</th>\n",
       "      <th>BisikletOzellik1</th>\n",
       "      <th>BisikletOzellik2</th>\n",
       "    </tr>\n",
       "  </thead>\n",
       "  <tbody>\n",
       "    <tr>\n",
       "      <th>0</th>\n",
       "      <td>807.673876</td>\n",
       "      <td>1749.628226</td>\n",
       "      <td>1749.590668</td>\n",
       "    </tr>\n",
       "    <tr>\n",
       "      <th>1</th>\n",
       "      <td>959.227520</td>\n",
       "      <td>1748.007826</td>\n",
       "      <td>1751.824206</td>\n",
       "    </tr>\n",
       "    <tr>\n",
       "      <th>2</th>\n",
       "      <td>718.020033</td>\n",
       "      <td>1750.122967</td>\n",
       "      <td>1747.977026</td>\n",
       "    </tr>\n",
       "    <tr>\n",
       "      <th>3</th>\n",
       "      <td>945.668885</td>\n",
       "      <td>1749.916440</td>\n",
       "      <td>1750.771646</td>\n",
       "    </tr>\n",
       "    <tr>\n",
       "      <th>4</th>\n",
       "      <td>955.542968</td>\n",
       "      <td>1750.780519</td>\n",
       "      <td>1750.592430</td>\n",
       "    </tr>\n",
       "  </tbody>\n",
       "</table>\n",
       "</div>"
      ],
      "text/plain": [
       "        Fiyat  BisikletOzellik1  BisikletOzellik2\n",
       "0  807.673876       1749.628226       1749.590668\n",
       "1  959.227520       1748.007826       1751.824206\n",
       "2  718.020033       1750.122967       1747.977026\n",
       "3  945.668885       1749.916440       1750.771646\n",
       "4  955.542968       1750.780519       1750.592430"
      ]
     },
     "execution_count": 3,
     "metadata": {},
     "output_type": "execute_result"
    }
   ],
   "source": [
    "dataFrame.head()"
   ]
  },
  {
   "cell_type": "code",
   "execution_count": 4,
   "id": "b6d3e3f2",
   "metadata": {},
   "outputs": [],
   "source": [
    "import matplotlib.pyplot as plt\n",
    "import seaborn as sbn"
   ]
  },
  {
   "cell_type": "code",
   "execution_count": null,
   "id": "a0a6217e",
   "metadata": {},
   "outputs": [],
   "source": [
    "sbn.pairplot(dataFrame)"
   ]
  },
  {
   "cell_type": "markdown",
   "id": "1efa807d",
   "metadata": {},
   "source": [
    "## veriyi test/train olarak ikiye ayırma"
   ]
  },
  {
   "cell_type": "code",
   "execution_count": null,
   "id": "7e8a659e",
   "metadata": {},
   "outputs": [],
   "source": [
    "from sklearn.model_selection import train_test_split"
   ]
  },
  {
   "cell_type": "code",
   "execution_count": null,
   "id": "610cb70c",
   "metadata": {},
   "outputs": [],
   "source": [
    "#train_test_split"
   ]
  },
  {
   "cell_type": "code",
   "execution_count": null,
   "id": "d9dadfb7",
   "metadata": {},
   "outputs": [],
   "source": [
    "#y=wx+b\n",
    "#y-->label\n",
    "\n",
    "y=dataFrame[\"Fiyat\"].values\n",
    "\n",
    "#x-->feature(özellik)\n",
    "x=dataFrame[[\"BisikletOzellik1\",\"BisikletOzellik2\"]].values\n",
    "\n",
    "x_train,x_test,y_train,y_test=train_test_split(x,y,test_size=0.33,random_state=15)"
   ]
  },
  {
   "cell_type": "code",
   "execution_count": null,
   "id": "0a336c4b",
   "metadata": {},
   "outputs": [],
   "source": [
    "x_train.shape"
   ]
  },
  {
   "cell_type": "code",
   "execution_count": null,
   "id": "680970c1",
   "metadata": {},
   "outputs": [],
   "source": [
    "x_test.shape"
   ]
  },
  {
   "cell_type": "code",
   "execution_count": null,
   "id": "cb2e4f64",
   "metadata": {},
   "outputs": [],
   "source": [
    "y_train.shape"
   ]
  },
  {
   "cell_type": "code",
   "execution_count": null,
   "id": "e74369ab",
   "metadata": {},
   "outputs": [],
   "source": [
    "y_test.shape"
   ]
  },
  {
   "cell_type": "code",
   "execution_count": null,
   "id": "1062cade",
   "metadata": {},
   "outputs": [],
   "source": [
    "#scaling-->boyut küçültme"
   ]
  },
  {
   "cell_type": "code",
   "execution_count": null,
   "id": "d0945253",
   "metadata": {},
   "outputs": [],
   "source": [
    "from sklearn.preprocessing import MinMaxScaler"
   ]
  },
  {
   "cell_type": "code",
   "execution_count": null,
   "id": "4e5d7d4d",
   "metadata": {},
   "outputs": [],
   "source": [
    "scaler=MinMaxScaler()"
   ]
  },
  {
   "cell_type": "code",
   "execution_count": null,
   "id": "742ff038",
   "metadata": {},
   "outputs": [],
   "source": [
    "scaler.fit(x_train)"
   ]
  },
  {
   "cell_type": "code",
   "execution_count": null,
   "id": "5f3dadd1",
   "metadata": {},
   "outputs": [],
   "source": [
    "x_train=scaler.transform(x_train)\n",
    "x_test=scaler.transform(x_test) "
   ]
  },
  {
   "cell_type": "code",
   "execution_count": null,
   "id": "143c52df",
   "metadata": {},
   "outputs": [],
   "source": [
    "x_train"
   ]
  },
  {
   "cell_type": "code",
   "execution_count": null,
   "id": "c6eddf4e",
   "metadata": {
    "scrolled": true
   },
   "outputs": [],
   "source": [
    "import tensorflow as tf"
   ]
  },
  {
   "cell_type": "code",
   "execution_count": null,
   "id": "575e27a6",
   "metadata": {
    "scrolled": true
   },
   "outputs": [],
   "source": [
    "from tensorflow.keras.models import Sequential\n",
    "from tensorflow.keras.layers import Dense"
   ]
  },
  {
   "cell_type": "code",
   "execution_count": null,
   "id": "b7e1bc17",
   "metadata": {},
   "outputs": [],
   "source": [
    "model=Sequential()\n",
    "\n",
    "model.add(Dense(4,activation=\"relu\"))\n",
    "model.add(Dense(4,activation=\"relu\"))\n",
    "model.add(Dense(4,activation=\"relu\"))\n",
    "\n",
    "model.add(Dense(1))\n",
    "\n",
    "model.compile(optimizer=\"rmsprop\",loss=\"mse\")"
   ]
  },
  {
   "cell_type": "code",
   "execution_count": null,
   "id": "26352022",
   "metadata": {},
   "outputs": [],
   "source": [
    "model.fit(x_train,y_train,epochs=250)"
   ]
  },
  {
   "cell_type": "code",
   "execution_count": null,
   "id": "cd0383fa-5886-4d66-8e1e-58988f099cc3",
   "metadata": {},
   "outputs": [],
   "source": [
    "loss=model.history.history[\"loss\"]"
   ]
  },
  {
   "cell_type": "code",
   "execution_count": null,
   "id": "f8625c6a-598f-4505-bfd2-b17634672ee5",
   "metadata": {},
   "outputs": [],
   "source": [
    "sbn.lineplot(x=range(len(loss)),y=loss)"
   ]
  },
  {
   "cell_type": "code",
   "execution_count": null,
   "id": "d808b41a-45c4-453f-9dc2-0b1d3d48a090",
   "metadata": {},
   "outputs": [],
   "source": [
    "trainLoss=model.evaluate(x_train,y_train,verbose=0)"
   ]
  },
  {
   "cell_type": "code",
   "execution_count": null,
   "id": "1f3dd2b3-7326-492e-bf33-b3e4fe774d8e",
   "metadata": {},
   "outputs": [],
   "source": [
    "testLoss=model.evaluate(x_test,y_test,verbose=0)"
   ]
  },
  {
   "cell_type": "code",
   "execution_count": null,
   "id": "ed608ab0-d54b-42cc-b4e3-1cd0257d78b7",
   "metadata": {},
   "outputs": [],
   "source": [
    "trainLoss"
   ]
  },
  {
   "cell_type": "code",
   "execution_count": null,
   "id": "a86926e2-1090-46c3-897f-0bdef5895cb0",
   "metadata": {},
   "outputs": [],
   "source": [
    "testLoss"
   ]
  },
  {
   "cell_type": "code",
   "execution_count": null,
   "id": "9098152a-b369-4827-84dc-925eefa3d510",
   "metadata": {},
   "outputs": [],
   "source": [
    "testTahminleri=model.predict(x_test)"
   ]
  },
  {
   "cell_type": "code",
   "execution_count": null,
   "id": "8e96e7c0",
   "metadata": {},
   "outputs": [],
   "source": [
    "testTahminleri"
   ]
  },
  {
   "cell_type": "code",
   "execution_count": null,
   "id": "7394c2a8",
   "metadata": {},
   "outputs": [],
   "source": [
    "tahminDf=pd.DataFrame(y_test,columns=[\"Gerçek Y\"])"
   ]
  },
  {
   "cell_type": "code",
   "execution_count": null,
   "id": "93002c64",
   "metadata": {},
   "outputs": [],
   "source": [
    "tahminDf"
   ]
  },
  {
   "cell_type": "code",
   "execution_count": null,
   "id": "adacccfc",
   "metadata": {},
   "outputs": [],
   "source": [
    "testTahminleri=pd.Series(testTahminleri.reshape(330,))"
   ]
  },
  {
   "cell_type": "code",
   "execution_count": null,
   "id": "555edea5",
   "metadata": {},
   "outputs": [],
   "source": [
    "testTahminleri"
   ]
  },
  {
   "cell_type": "code",
   "execution_count": null,
   "id": "04332b05",
   "metadata": {},
   "outputs": [],
   "source": [
    "tahminDf=pd.concat([tahminDf,testTahminleri],axis=1)"
   ]
  },
  {
   "cell_type": "code",
   "execution_count": null,
   "id": "77e14181",
   "metadata": {},
   "outputs": [],
   "source": [
    "tahminDf"
   ]
  },
  {
   "cell_type": "code",
   "execution_count": null,
   "id": "b1f0df23",
   "metadata": {},
   "outputs": [],
   "source": [
    "tahminDf.columns=[\"Gerçek Y\",\"Tahmin Y\"]"
   ]
  },
  {
   "cell_type": "code",
   "execution_count": null,
   "id": "01176f9d",
   "metadata": {},
   "outputs": [],
   "source": [
    "tahminDf"
   ]
  },
  {
   "cell_type": "code",
   "execution_count": null,
   "id": "310a7611",
   "metadata": {},
   "outputs": [],
   "source": [
    "sbn.scatterplot(x=\"Gerçek Y\",y=\"Tahmin Y\",data=tahminDf)"
   ]
  },
  {
   "cell_type": "code",
   "execution_count": null,
   "id": "bb57fa61",
   "metadata": {},
   "outputs": [],
   "source": [
    "from sklearn.metrics import mean_absolute_error,mean_squared_error"
   ]
  },
  {
   "cell_type": "code",
   "execution_count": null,
   "id": "5904b54e",
   "metadata": {},
   "outputs": [],
   "source": [
    "mean_absolute_error(tahminDf[\"Gerçek Y\"],tahminDf[\"Tahmin Df\"])_"
   ]
  },
  {
   "cell_type": "code",
   "execution_count": null,
   "id": "35ec576f",
   "metadata": {},
   "outputs": [],
   "source": [
    "dataFrame.describe()"
   ]
  },
  {
   "cell_type": "code",
   "execution_count": null,
   "id": "f129472c",
   "metadata": {},
   "outputs": [],
   "source": [
    "yeniBisikletOzellikleri=[[1753,1751]]"
   ]
  },
  {
   "cell_type": "code",
   "execution_count": null,
   "id": "8d05c6bb",
   "metadata": {},
   "outputs": [],
   "source": [
    "yeniBisikletOzellikleri=scaler.transform(yeniBisikletOzellikleri)"
   ]
  },
  {
   "cell_type": "code",
   "execution_count": null,
   "id": "71c27bc1",
   "metadata": {},
   "outputs": [],
   "source": [
    "model.predict(yeniBisikletOzellikleri)"
   ]
  },
  {
   "cell_type": "code",
   "execution_count": null,
   "id": "2cc0633f",
   "metadata": {},
   "outputs": [],
   "source": [
    "from tensorflow.keras.models import load=model"
   ]
  },
  {
   "cell_type": "code",
   "execution_count": null,
   "id": "5fdcead8",
   "metadata": {},
   "outputs": [],
   "source": [
    "model.save(\"bisiklet_modeli.h5\")"
   ]
  },
  {
   "cell_type": "code",
   "execution_count": null,
   "id": "81af832a",
   "metadata": {},
   "outputs": [],
   "source": [
    "sonradanCagrilanModel=load_model(\"bisiklet_modeli.h5\")"
   ]
  },
  {
   "cell_type": "code",
   "execution_count": null,
   "id": "9c9d65d0",
   "metadata": {},
   "outputs": [],
   "source": [
    "sonradanCagrilanModel.predict(yeniBisikletModelleri)"
   ]
  },
  {
   "cell_type": "code",
   "execution_count": null,
   "id": "b4aa66ff",
   "metadata": {},
   "outputs": [],
   "source": []
  }
 ],
 "metadata": {
  "kernelspec": {
   "display_name": "Python 3 (ipykernel)",
   "language": "python",
   "name": "python3"
  },
  "language_info": {
   "codemirror_mode": {
    "name": "ipython",
    "version": 3
   },
   "file_extension": ".py",
   "mimetype": "text/x-python",
   "name": "python",
   "nbconvert_exporter": "python",
   "pygments_lexer": "ipython3",
   "version": "3.11.5"
  }
 },
 "nbformat": 4,
 "nbformat_minor": 5
}
