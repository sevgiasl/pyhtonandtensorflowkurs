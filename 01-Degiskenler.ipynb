{
 "cells": [
  {
   "cell_type": "code",
   "execution_count": 1,
   "id": "dd83681d",
   "metadata": {},
   "outputs": [
    {
     "data": {
      "text/plain": [
       "30"
      ]
     },
     "execution_count": 1,
     "metadata": {},
     "output_type": "execute_result"
    }
   ],
   "source": [
    "benimDegiskenim =10\n",
    "benimDigerDegiskenim=20\n",
    "benimDegiskenim+benimDigerDegiskenim"
   ]
  },
  {
   "cell_type": "code",
   "execution_count": 2,
   "id": "17785120",
   "metadata": {},
   "outputs": [
    {
     "data": {
      "text/plain": [
       "int"
      ]
     },
     "execution_count": 2,
     "metadata": {},
     "output_type": "execute_result"
    }
   ],
   "source": [
    "type(benimDegiskenim)"
   ]
  },
  {
   "cell_type": "code",
   "execution_count": 3,
   "id": "1bc43831",
   "metadata": {},
   "outputs": [],
   "source": [
    "sonuc=benimDegiskenim/benimDigerDegiskenim"
   ]
  },
  {
   "cell_type": "code",
   "execution_count": 4,
   "id": "72e76b86",
   "metadata": {},
   "outputs": [
    {
     "data": {
      "text/plain": [
       "float"
      ]
     },
     "execution_count": 4,
     "metadata": {},
     "output_type": "execute_result"
    }
   ],
   "source": [
    "type(sonuc)"
   ]
  },
  {
   "cell_type": "code",
   "execution_count": 5,
   "id": "a5b99382",
   "metadata": {},
   "outputs": [
    {
     "data": {
      "text/plain": [
       "1.5"
      ]
     },
     "execution_count": 5,
     "metadata": {},
     "output_type": "execute_result"
    }
   ],
   "source": [
    "a=3\n",
    "b=2\n",
    "a/b"
   ]
  },
  {
   "cell_type": "code",
   "execution_count": 6,
   "id": "b9435696",
   "metadata": {},
   "outputs": [
    {
     "data": {
      "text/plain": [
       "float"
      ]
     },
     "execution_count": 6,
     "metadata": {},
     "output_type": "execute_result"
    }
   ],
   "source": [
    "pi=3.14\n",
    "type(pi)"
   ]
  },
  {
   "cell_type": "code",
   "execution_count": 7,
   "id": "00adab28",
   "metadata": {},
   "outputs": [
    {
     "data": {
      "text/plain": [
       "6.140000000000001"
      ]
     },
     "execution_count": 7,
     "metadata": {},
     "output_type": "execute_result"
    }
   ],
   "source": [
    "a+pi"
   ]
  },
  {
   "cell_type": "markdown",
   "id": "76855bf7",
   "metadata": {},
   "source": [
    "MATEMATİKSEL İŞLEMLER"
   ]
  },
  {
   "cell_type": "code",
   "execution_count": 8,
   "id": "96cc95ab",
   "metadata": {},
   "outputs": [],
   "source": [
    "x=5\n",
    "y=3"
   ]
  },
  {
   "cell_type": "code",
   "execution_count": 17,
   "id": "2ccba93c",
   "metadata": {},
   "outputs": [
    {
     "data": {
      "text/plain": [
       "625"
      ]
     },
     "execution_count": 17,
     "metadata": {},
     "output_type": "execute_result"
    }
   ],
   "source": [
    "x**4"
   ]
  },
  {
   "cell_type": "code",
   "execution_count": 18,
   "id": "b26923ea",
   "metadata": {},
   "outputs": [],
   "source": [
    "#Remaninder-Kalanını bulma"
   ]
  },
  {
   "cell_type": "code",
   "execution_count": 19,
   "id": "287a341b",
   "metadata": {},
   "outputs": [
    {
     "data": {
      "text/plain": [
       "1"
      ]
     },
     "execution_count": 19,
     "metadata": {},
     "output_type": "execute_result"
    }
   ],
   "source": [
    "11%2"
   ]
  },
  {
   "cell_type": "code",
   "execution_count": 20,
   "id": "20120838",
   "metadata": {},
   "outputs": [],
   "source": [
    "kullanicininYasi=10"
   ]
  },
  {
   "cell_type": "code",
   "execution_count": 21,
   "id": "f7c1d545",
   "metadata": {},
   "outputs": [],
   "source": [
    "##camelCase snake_case"
   ]
  },
  {
   "cell_type": "code",
   "execution_count": 22,
   "id": "baf32783",
   "metadata": {},
   "outputs": [
    {
     "data": {
      "text/plain": [
       "16.666666666666668"
      ]
     },
     "execution_count": 22,
     "metadata": {},
     "output_type": "execute_result"
    }
   ],
   "source": [
    "kullanicininYasi*5/3"
   ]
  },
  {
   "cell_type": "code",
   "execution_count": 24,
   "id": "d90833c1",
   "metadata": {},
   "outputs": [
    {
     "name": "stdout",
     "output_type": "stream",
     "text": [
      "Yaşınızı giriniz40\n"
     ]
    }
   ],
   "source": [
    "kullanicininYasi=input(\"Yaşınızı giriniz\")"
   ]
  },
  {
   "cell_type": "code",
   "execution_count": 25,
   "id": "3faa6992",
   "metadata": {},
   "outputs": [
    {
     "data": {
      "text/plain": [
       "'40'"
      ]
     },
     "execution_count": 25,
     "metadata": {},
     "output_type": "execute_result"
    }
   ],
   "source": [
    "kullanicininYasi"
   ]
  },
  {
   "cell_type": "code",
   "execution_count": 27,
   "id": "2af74f2e",
   "metadata": {},
   "outputs": [
    {
     "data": {
      "text/plain": [
       "str"
      ]
     },
     "execution_count": 27,
     "metadata": {},
     "output_type": "execute_result"
    }
   ],
   "source": [
    "type(kullanicininYasi)"
   ]
  },
  {
   "cell_type": "raw",
   "id": "bb0a5160",
   "metadata": {},
   "source": [
    "STRING"
   ]
  },
  {
   "cell_type": "code",
   "execution_count": 28,
   "id": "1085515f",
   "metadata": {},
   "outputs": [
    {
     "data": {
      "text/plain": [
       "'merhaba dünya'"
      ]
     },
     "execution_count": 28,
     "metadata": {},
     "output_type": "execute_result"
    }
   ],
   "source": [
    "\"merhaba dünya\""
   ]
  },
  {
   "cell_type": "code",
   "execution_count": 29,
   "id": "4390d6e0",
   "metadata": {},
   "outputs": [],
   "source": [
    "x=\"merhaba dünya\""
   ]
  },
  {
   "cell_type": "code",
   "execution_count": 30,
   "id": "72b0aa1f",
   "metadata": {},
   "outputs": [
    {
     "data": {
      "text/plain": [
       "str"
      ]
     },
     "execution_count": 30,
     "metadata": {},
     "output_type": "execute_result"
    }
   ],
   "source": [
    "type(x)"
   ]
  },
  {
   "cell_type": "code",
   "execution_count": 31,
   "id": "3148726c",
   "metadata": {},
   "outputs": [],
   "source": [
    "y='yeni string'"
   ]
  },
  {
   "cell_type": "code",
   "execution_count": 32,
   "id": "a7f8472d",
   "metadata": {},
   "outputs": [
    {
     "data": {
      "text/plain": [
       "str"
      ]
     },
     "execution_count": 32,
     "metadata": {},
     "output_type": "execute_result"
    }
   ],
   "source": [
    "type(y)"
   ]
  },
  {
   "cell_type": "code",
   "execution_count": 33,
   "id": "f30beefc",
   "metadata": {},
   "outputs": [],
   "source": [
    "a=5"
   ]
  },
  {
   "cell_type": "code",
   "execution_count": 34,
   "id": "9b937ead",
   "metadata": {},
   "outputs": [
    {
     "data": {
      "text/plain": [
       "['yeni', 'string']"
      ]
     },
     "execution_count": 34,
     "metadata": {},
     "output_type": "execute_result"
    }
   ],
   "source": [
    "y.split() #y. tabb e bastık"
   ]
  },
  {
   "cell_type": "code",
   "execution_count": 35,
   "id": "f9d2fac6",
   "metadata": {},
   "outputs": [],
   "source": [
    "benimString=\"Sevgi Aslan\""
   ]
  },
  {
   "cell_type": "code",
   "execution_count": 36,
   "id": "9968a0da",
   "metadata": {},
   "outputs": [
    {
     "name": "stdout",
     "output_type": "stream",
     "text": [
      "Yaşınızı Giriniz19\n"
     ]
    }
   ],
   "source": [
    "benimInput=input(\"Yaşınızı Giriniz\")"
   ]
  },
  {
   "cell_type": "code",
   "execution_count": 37,
   "id": "8f83983e",
   "metadata": {},
   "outputs": [
    {
     "data": {
      "text/plain": [
       "'19'"
      ]
     },
     "execution_count": 37,
     "metadata": {},
     "output_type": "execute_result"
    }
   ],
   "source": [
    "benimInput"
   ]
  },
  {
   "cell_type": "code",
   "execution_count": 38,
   "id": "7cac589d",
   "metadata": {},
   "outputs": [],
   "source": [
    "k=\"Aslan\""
   ]
  },
  {
   "cell_type": "code",
   "execution_count": 39,
   "id": "220035a4",
   "metadata": {},
   "outputs": [
    {
     "data": {
      "text/plain": [
       "5"
      ]
     },
     "execution_count": 39,
     "metadata": {},
     "output_type": "execute_result"
    }
   ],
   "source": [
    "len(k)"
   ]
  },
  {
   "cell_type": "code",
   "execution_count": 40,
   "id": "8a55b205",
   "metadata": {},
   "outputs": [
    {
     "name": "stdout",
     "output_type": "stream",
     "text": [
      "merhaba \n",
      "pyhton\n"
     ]
    }
   ],
   "source": [
    "print(\"merhaba \\npyhton\")"
   ]
  },
  {
   "cell_type": "markdown",
   "id": "baf6f4ba",
   "metadata": {},
   "source": [
    "INDEX"
   ]
  },
  {
   "cell_type": "code",
   "execution_count": 43,
   "id": "f2eae826",
   "metadata": {},
   "outputs": [],
   "source": [
    "isimString=\"Sevgi Aslan\""
   ]
  },
  {
   "cell_type": "code",
   "execution_count": 44,
   "id": "42e2a40d",
   "metadata": {},
   "outputs": [
    {
     "data": {
      "text/plain": [
       "'Sevgi Aslan'"
      ]
     },
     "execution_count": 44,
     "metadata": {},
     "output_type": "execute_result"
    }
   ],
   "source": [
    "isimString"
   ]
  },
  {
   "cell_type": "code",
   "execution_count": 45,
   "id": "166c6814",
   "metadata": {},
   "outputs": [
    {
     "data": {
      "text/plain": [
       "'S'"
      ]
     },
     "execution_count": 45,
     "metadata": {},
     "output_type": "execute_result"
    }
   ],
   "source": [
    "isimString[0]"
   ]
  },
  {
   "cell_type": "code",
   "execution_count": 46,
   "id": "4f1dd479",
   "metadata": {},
   "outputs": [
    {
     "data": {
      "text/plain": [
       "'s'"
      ]
     },
     "execution_count": 46,
     "metadata": {},
     "output_type": "execute_result"
    }
   ],
   "source": [
    "isimString[7]"
   ]
  },
  {
   "cell_type": "code",
   "execution_count": 47,
   "id": "e54a4af8",
   "metadata": {},
   "outputs": [
    {
     "data": {
      "text/plain": [
       "' '"
      ]
     },
     "execution_count": 47,
     "metadata": {},
     "output_type": "execute_result"
    }
   ],
   "source": [
    "isimString[5]"
   ]
  },
  {
   "cell_type": "code",
   "execution_count": 48,
   "id": "17fb9879",
   "metadata": {},
   "outputs": [
    {
     "data": {
      "text/plain": [
       "'n'"
      ]
     },
     "execution_count": 48,
     "metadata": {},
     "output_type": "execute_result"
    }
   ],
   "source": [
    "isimString[-1]"
   ]
  },
  {
   "cell_type": "code",
   "execution_count": 49,
   "id": "b7867e2d",
   "metadata": {},
   "outputs": [
    {
     "data": {
      "text/plain": [
       "'Sn'"
      ]
     },
     "execution_count": 49,
     "metadata": {},
     "output_type": "execute_result"
    }
   ],
   "source": [
    "isimString[0]+isimString[-1]"
   ]
  },
  {
   "cell_type": "code",
   "execution_count": 50,
   "id": "e419705d",
   "metadata": {},
   "outputs": [],
   "source": [
    "yeniString=\"0123456789\""
   ]
  },
  {
   "cell_type": "code",
   "execution_count": 51,
   "id": "560bf142",
   "metadata": {},
   "outputs": [
    {
     "data": {
      "text/plain": [
       "str"
      ]
     },
     "execution_count": 51,
     "metadata": {},
     "output_type": "execute_result"
    }
   ],
   "source": [
    "type(yeniString)"
   ]
  },
  {
   "cell_type": "code",
   "execution_count": 52,
   "id": "15025f65",
   "metadata": {},
   "outputs": [
    {
     "data": {
      "text/plain": [
       "'23456789'"
      ]
     },
     "execution_count": 52,
     "metadata": {},
     "output_type": "execute_result"
    }
   ],
   "source": [
    "yeniString[2:]"
   ]
  },
  {
   "cell_type": "code",
   "execution_count": 53,
   "id": "5944197f",
   "metadata": {},
   "outputs": [],
   "source": [
    "harfString=\"abcdefgh\""
   ]
  },
  {
   "cell_type": "code",
   "execution_count": 54,
   "id": "d5e39789",
   "metadata": {},
   "outputs": [
    {
     "data": {
      "text/plain": [
       "'defgh'"
      ]
     },
     "execution_count": 54,
     "metadata": {},
     "output_type": "execute_result"
    }
   ],
   "source": [
    "harfString[3:]"
   ]
  },
  {
   "cell_type": "code",
   "execution_count": 55,
   "id": "59e3c572",
   "metadata": {},
   "outputs": [
    {
     "data": {
      "text/plain": [
       "'abc'"
      ]
     },
     "execution_count": 55,
     "metadata": {},
     "output_type": "execute_result"
    }
   ],
   "source": [
    "harfString[:3]"
   ]
  },
  {
   "cell_type": "markdown",
   "id": "6243f22c",
   "metadata": {},
   "source": [
    "SCILING"
   ]
  },
  {
   "cell_type": "code",
   "execution_count": 56,
   "id": "630442b7",
   "metadata": {},
   "outputs": [],
   "source": [
    "gelenVeri=\"AhmetinYasi65\""
   ]
  },
  {
   "cell_type": "code",
   "execution_count": 57,
   "id": "ccfad324",
   "metadata": {},
   "outputs": [
    {
     "data": {
      "text/plain": [
       "'65'"
      ]
     },
     "execution_count": 57,
     "metadata": {},
     "output_type": "execute_result"
    }
   ],
   "source": [
    "gelenVeri[-2:]"
   ]
  },
  {
   "cell_type": "code",
   "execution_count": 58,
   "id": "526bb9dc",
   "metadata": {},
   "outputs": [
    {
     "data": {
      "text/plain": [
       "'me'"
      ]
     },
     "execution_count": 58,
     "metadata": {},
     "output_type": "execute_result"
    }
   ],
   "source": [
    "gelenVeri[2:4]"
   ]
  },
  {
   "cell_type": "code",
   "execution_count": 59,
   "id": "9759f513",
   "metadata": {},
   "outputs": [],
   "source": [
    "#Step Size"
   ]
  },
  {
   "cell_type": "code",
   "execution_count": 60,
   "id": "d49caab3",
   "metadata": {},
   "outputs": [
    {
     "data": {
      "text/plain": [
       "'Amtnai5'"
      ]
     },
     "execution_count": 60,
     "metadata": {},
     "output_type": "execute_result"
    }
   ],
   "source": [
    "gelenVeri[::2]"
   ]
  },
  {
   "cell_type": "code",
   "execution_count": 61,
   "id": "257ea55a",
   "metadata": {},
   "outputs": [
    {
     "data": {
      "text/plain": [
       "'htY'"
      ]
     },
     "execution_count": 61,
     "metadata": {},
     "output_type": "execute_result"
    }
   ],
   "source": [
    "gelenVeri[1:10:3]#1'den başla 10'da dur 3 er atla"
   ]
  },
  {
   "cell_type": "code",
   "execution_count": 62,
   "id": "99f925bc",
   "metadata": {},
   "outputs": [
    {
     "data": {
      "text/plain": [
       "'56isaYnitemhA'"
      ]
     },
     "execution_count": 62,
     "metadata": {},
     "output_type": "execute_result"
    }
   ],
   "source": [
    "gelenVeri[::-1]#terstenyazma"
   ]
  },
  {
   "cell_type": "code",
   "execution_count": 6,
   "id": "c14ebed1",
   "metadata": {},
   "outputs": [],
   "source": [
    "benimIsmim =\"sevgi\""
   ]
  },
  {
   "cell_type": "code",
   "execution_count": 7,
   "id": "e8d6bbd7",
   "metadata": {},
   "outputs": [
    {
     "data": {
      "text/plain": [
       "'Sevgi'"
      ]
     },
     "execution_count": 7,
     "metadata": {},
     "output_type": "execute_result"
    }
   ],
   "source": [
    "benimIsmim.capitalize()"
   ]
  },
  {
   "cell_type": "code",
   "execution_count": 17,
   "id": "b4905f61",
   "metadata": {},
   "outputs": [
    {
     "data": {
      "text/plain": [
       "'sevgi'"
      ]
     },
     "execution_count": 17,
     "metadata": {},
     "output_type": "execute_result"
    }
   ],
   "source": [
    "benimIsmim"
   ]
  },
  {
   "cell_type": "code",
   "execution_count": 9,
   "id": "795bd4c0",
   "metadata": {},
   "outputs": [],
   "source": [
    "benimTamIsmim=\"Sevgi Aslan\""
   ]
  },
  {
   "cell_type": "code",
   "execution_count": 10,
   "id": "81b28e17",
   "metadata": {},
   "outputs": [
    {
     "data": {
      "text/plain": [
       "['Sevgi', 'Aslan']"
      ]
     },
     "execution_count": 10,
     "metadata": {},
     "output_type": "execute_result"
    }
   ],
   "source": [
    "benimTamIsmim.split()"
   ]
  },
  {
   "cell_type": "code",
   "execution_count": 13,
   "id": "52ee0421",
   "metadata": {},
   "outputs": [],
   "source": [
    "listeler=benimTamIsmim.split()"
   ]
  },
  {
   "cell_type": "code",
   "execution_count": 14,
   "id": "156ed7c1",
   "metadata": {},
   "outputs": [
    {
     "data": {
      "text/plain": [
       "'Sevgi'"
      ]
     },
     "execution_count": 14,
     "metadata": {},
     "output_type": "execute_result"
    }
   ],
   "source": [
    "listeler[0]"
   ]
  },
  {
   "cell_type": "code",
   "execution_count": 15,
   "id": "8a251c64",
   "metadata": {},
   "outputs": [
    {
     "data": {
      "text/plain": [
       "'SEVGI ASLAN'"
      ]
     },
     "execution_count": 15,
     "metadata": {},
     "output_type": "execute_result"
    }
   ],
   "source": [
    "benimTamIsmim.upper()"
   ]
  },
  {
   "cell_type": "code",
   "execution_count": 18,
   "id": "19d8ae92",
   "metadata": {},
   "outputs": [
    {
     "data": {
      "text/plain": [
       "'sevgisevgisevgisevgisevgisevgisevgisevgisevgisevgi'"
      ]
     },
     "execution_count": 18,
     "metadata": {},
     "output_type": "execute_result"
    }
   ],
   "source": [
    "benimIsmim*10"
   ]
  },
  {
   "cell_type": "code",
   "execution_count": 21,
   "id": "856d3d7b",
   "metadata": {},
   "outputs": [
    {
     "data": {
      "text/plain": [
       "'sevgi Aslan'"
      ]
     },
     "execution_count": 21,
     "metadata": {},
     "output_type": "execute_result"
    }
   ],
   "source": [
    "benimIsmim+ \" \"+\"Aslan\""
   ]
  },
  {
   "cell_type": "code",
   "execution_count": 22,
   "id": "621e8306",
   "metadata": {},
   "outputs": [
    {
     "data": {
      "text/plain": [
       "'510'"
      ]
     },
     "execution_count": 22,
     "metadata": {},
     "output_type": "execute_result"
    }
   ],
   "source": [
    "j=\"5\"\n",
    "k=\"10\"\n",
    "j+k"
   ]
  }
 ],
 "metadata": {
  "kernelspec": {
   "display_name": "Python 3 (ipykernel)",
   "language": "python",
   "name": "python3"
  },
  "language_info": {
   "codemirror_mode": {
    "name": "ipython",
    "version": 3
   },
   "file_extension": ".py",
   "mimetype": "text/x-python",
   "name": "python",
   "nbconvert_exporter": "python",
   "pygments_lexer": "ipython3",
   "version": "3.11.5"
  }
 },
 "nbformat": 4,
 "nbformat_minor": 5
}
