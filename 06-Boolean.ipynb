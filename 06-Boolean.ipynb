{
 "cells": [
  {
   "cell_type": "code",
   "execution_count": 1,
   "id": "cfa366a6",
   "metadata": {},
   "outputs": [],
   "source": [
    "benimBoolean=True"
   ]
  },
  {
   "cell_type": "code",
   "execution_count": 2,
   "id": "46395b14",
   "metadata": {},
   "outputs": [
    {
     "data": {
      "text/plain": [
       "True"
      ]
     },
     "execution_count": 2,
     "metadata": {},
     "output_type": "execute_result"
    }
   ],
   "source": [
    "benimBoolean"
   ]
  },
  {
   "cell_type": "code",
   "execution_count": 3,
   "id": "87334826",
   "metadata": {},
   "outputs": [
    {
     "data": {
      "text/plain": [
       "bool"
      ]
     },
     "execution_count": 3,
     "metadata": {},
     "output_type": "execute_result"
    }
   ],
   "source": [
    "type(benimBoolean)"
   ]
  },
  {
   "cell_type": "code",
   "execution_count": 4,
   "id": "cff7ff36",
   "metadata": {},
   "outputs": [],
   "source": [
    "benimBoolean=False"
   ]
  },
  {
   "cell_type": "code",
   "execution_count": 5,
   "id": "7aa01ee9",
   "metadata": {},
   "outputs": [
    {
     "data": {
      "text/plain": [
       "True"
      ]
     },
     "execution_count": 5,
     "metadata": {},
     "output_type": "execute_result"
    }
   ],
   "source": [
    "10>5"
   ]
  },
  {
   "cell_type": "code",
   "execution_count": 6,
   "id": "4543746f",
   "metadata": {},
   "outputs": [
    {
     "data": {
      "text/plain": [
       "False"
      ]
     },
     "execution_count": 6,
     "metadata": {},
     "output_type": "execute_result"
    }
   ],
   "source": [
    "10<5"
   ]
  },
  {
   "cell_type": "code",
   "execution_count": 7,
   "id": "2826f85c",
   "metadata": {},
   "outputs": [],
   "source": [
    "listem=[5000,10000,3000,1000,2000,4000]"
   ]
  },
  {
   "cell_type": "code",
   "execution_count": 24,
   "id": "19be61bc",
   "metadata": {},
   "outputs": [],
   "source": [
    "ortalama=sum(listem)/len(listem)"
   ]
  },
  {
   "cell_type": "code",
   "execution_count": 25,
   "id": "81713a42",
   "metadata": {},
   "outputs": [
    {
     "data": {
      "text/plain": [
       "4166.666666666667"
      ]
     },
     "execution_count": 25,
     "metadata": {},
     "output_type": "execute_result"
    }
   ],
   "source": [
    "ortalama"
   ]
  },
  {
   "cell_type": "code",
   "execution_count": 26,
   "id": "b4693ef1",
   "metadata": {},
   "outputs": [
    {
     "data": {
      "text/plain": [
       "False"
      ]
     },
     "execution_count": 26,
     "metadata": {},
     "output_type": "execute_result"
    }
   ],
   "source": [
    "listem[3]>ortalama"
   ]
  },
  {
   "cell_type": "code",
   "execution_count": 27,
   "id": "7700337c",
   "metadata": {},
   "outputs": [
    {
     "name": "stdout",
     "output_type": "stream",
     "text": [
      "maaş bilgisini giriniz: 7000\n"
     ]
    }
   ],
   "source": [
    "kullaniciMaas=input(\"maaş bilgisini giriniz: \")"
   ]
  },
  {
   "cell_type": "code",
   "execution_count": 28,
   "id": "b0f168a0",
   "metadata": {},
   "outputs": [],
   "source": [
    "kullaniciMaasInt=int(kullaniciMaas)"
   ]
  },
  {
   "cell_type": "code",
   "execution_count": 29,
   "id": "97984152",
   "metadata": {},
   "outputs": [
    {
     "data": {
      "text/plain": [
       "True"
      ]
     },
     "execution_count": 29,
     "metadata": {},
     "output_type": "execute_result"
    }
   ],
   "source": [
    "kullaniciMaasInt>ortalama"
   ]
  },
  {
   "cell_type": "code",
   "execution_count": 1,
   "id": "b6f5ee34",
   "metadata": {},
   "outputs": [],
   "source": [
    "x=10\n",
    "y=8"
   ]
  },
  {
   "cell_type": "code",
   "execution_count": 2,
   "id": "cd53d3e6",
   "metadata": {},
   "outputs": [
    {
     "data": {
      "text/plain": [
       "False"
      ]
     },
     "execution_count": 2,
     "metadata": {},
     "output_type": "execute_result"
    }
   ],
   "source": [
    "x<y"
   ]
  },
  {
   "cell_type": "code",
   "execution_count": 3,
   "id": "46f0d27d",
   "metadata": {},
   "outputs": [
    {
     "data": {
      "text/plain": [
       "False"
      ]
     },
     "execution_count": 3,
     "metadata": {},
     "output_type": "execute_result"
    }
   ],
   "source": [
    "x<=y"
   ]
  },
  {
   "cell_type": "code",
   "execution_count": 4,
   "id": "6eb11b8a",
   "metadata": {},
   "outputs": [
    {
     "data": {
      "text/plain": [
       "False"
      ]
     },
     "execution_count": 4,
     "metadata": {},
     "output_type": "execute_result"
    }
   ],
   "source": [
    "x==y"
   ]
  },
  {
   "cell_type": "code",
   "execution_count": 6,
   "id": "0d2c2766",
   "metadata": {},
   "outputs": [
    {
     "data": {
      "text/plain": [
       "True"
      ]
     },
     "execution_count": 6,
     "metadata": {},
     "output_type": "execute_result"
    }
   ],
   "source": [
    "x!=y"
   ]
  },
  {
   "cell_type": "code",
   "execution_count": 7,
   "id": "a52687e5",
   "metadata": {},
   "outputs": [
    {
     "data": {
      "text/plain": [
       "True"
      ]
     },
     "execution_count": 7,
     "metadata": {},
     "output_type": "execute_result"
    }
   ],
   "source": [
    "3>1 and 3>2"
   ]
  },
  {
   "cell_type": "code",
   "execution_count": 8,
   "id": "5b69d699",
   "metadata": {},
   "outputs": [
    {
     "data": {
      "text/plain": [
       "False"
      ]
     },
     "execution_count": 8,
     "metadata": {},
     "output_type": "execute_result"
    }
   ],
   "source": [
    "1>3 and 3>2"
   ]
  },
  {
   "cell_type": "code",
   "execution_count": 9,
   "id": "ffd8f8c5",
   "metadata": {},
   "outputs": [
    {
     "data": {
      "text/plain": [
       "True"
      ]
     },
     "execution_count": 9,
     "metadata": {},
     "output_type": "execute_result"
    }
   ],
   "source": [
    "1>3 or 3>2"
   ]
  },
  {
   "cell_type": "code",
   "execution_count": 10,
   "id": "a6dac503",
   "metadata": {},
   "outputs": [
    {
     "data": {
      "text/plain": [
       "False"
      ]
     },
     "execution_count": 10,
     "metadata": {},
     "output_type": "execute_result"
    }
   ],
   "source": [
    "not 5==5"
   ]
  },
  {
   "cell_type": "code",
   "execution_count": 12,
   "id": "db479349",
   "metadata": {},
   "outputs": [
    {
     "data": {
      "text/plain": [
       "True"
      ]
     },
     "execution_count": 12,
     "metadata": {},
     "output_type": "execute_result"
    }
   ],
   "source": [
    "not 5==4"
   ]
  }
 ],
 "metadata": {
  "kernelspec": {
   "display_name": "Python 3 (ipykernel)",
   "language": "python",
   "name": "python3"
  },
  "language_info": {
   "codemirror_mode": {
    "name": "ipython",
    "version": 3
   },
   "file_extension": ".py",
   "mimetype": "text/x-python",
   "name": "python",
   "nbconvert_exporter": "python",
   "pygments_lexer": "ipython3",
   "version": "3.11.5"
  }
 },
 "nbformat": 4,
 "nbformat_minor": 5
}
