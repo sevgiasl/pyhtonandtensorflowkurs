{
 "cells": [
  {
   "cell_type": "code",
   "execution_count": 4,
   "id": "b4458389",
   "metadata": {},
   "outputs": [],
   "source": [
    "import pandas as pd\n",
    "import numpy as np"
   ]
  },
  {
   "cell_type": "code",
   "execution_count": 6,
   "id": "884b4f51",
   "metadata": {},
   "outputs": [],
   "source": [
    "dataFrame=pd.read_excel(\"maliciousornot.xlsx\")"
   ]
  },
  {
   "cell_type": "code",
   "execution_count": 7,
   "id": "8f732a29",
   "metadata": {},
   "outputs": [
    {
     "data": {
      "text/html": [
       "<div>\n",
       "<style scoped>\n",
       "    .dataframe tbody tr th:only-of-type {\n",
       "        vertical-align: middle;\n",
       "    }\n",
       "\n",
       "    .dataframe tbody tr th {\n",
       "        vertical-align: top;\n",
       "    }\n",
       "\n",
       "    .dataframe thead th {\n",
       "        text-align: right;\n",
       "    }\n",
       "</style>\n",
       "<table border=\"1\" class=\"dataframe\">\n",
       "  <thead>\n",
       "    <tr style=\"text-align: right;\">\n",
       "      <th></th>\n",
       "      <th>Type</th>\n",
       "      <th>URL_LENGTH</th>\n",
       "      <th>NUMBER_SPECIAL_CHARACTERS</th>\n",
       "      <th>TCP_CONVERSATION_EXCHANGE</th>\n",
       "      <th>DIST_REMOTE_TCP_PORT</th>\n",
       "      <th>REMOTE_IPS</th>\n",
       "      <th>APP_BYTES</th>\n",
       "      <th>SOURCE_APP_PACKETS</th>\n",
       "      <th>REMOTE_APP_PACKETS</th>\n",
       "      <th>SOURCE_APP_BYTES</th>\n",
       "      <th>...</th>\n",
       "      <th>SOURCE_I</th>\n",
       "      <th>SOURCE_J</th>\n",
       "      <th>SOURCE_K</th>\n",
       "      <th>SOURCE_M</th>\n",
       "      <th>SOURCE_L</th>\n",
       "      <th>SOURCE_N</th>\n",
       "      <th>SOURCE_O</th>\n",
       "      <th>SOURCE_P</th>\n",
       "      <th>SOURCE_R</th>\n",
       "      <th>SOURCE_S</th>\n",
       "    </tr>\n",
       "  </thead>\n",
       "  <tbody>\n",
       "    <tr>\n",
       "      <th>0</th>\n",
       "      <td>1</td>\n",
       "      <td>23.303047</td>\n",
       "      <td>13.445560</td>\n",
       "      <td>159.066933</td>\n",
       "      <td>1296.628667</td>\n",
       "      <td>0.153367</td>\n",
       "      <td>0.359585</td>\n",
       "      <td>0.388730</td>\n",
       "      <td>0.190544</td>\n",
       "      <td>0.313341</td>\n",
       "      <td>...</td>\n",
       "      <td>32.875560</td>\n",
       "      <td>22.448127</td>\n",
       "      <td>239.118533</td>\n",
       "      <td>2615.278000</td>\n",
       "      <td>0.210103</td>\n",
       "      <td>0.862174</td>\n",
       "      <td>0.922148</td>\n",
       "      <td>0.343781</td>\n",
       "      <td>0.595983</td>\n",
       "      <td>0.154015</td>\n",
       "    </tr>\n",
       "    <tr>\n",
       "      <th>1</th>\n",
       "      <td>1</td>\n",
       "      <td>26.645007</td>\n",
       "      <td>23.018073</td>\n",
       "      <td>172.149800</td>\n",
       "      <td>1717.612000</td>\n",
       "      <td>0.109767</td>\n",
       "      <td>0.101865</td>\n",
       "      <td>0.112564</td>\n",
       "      <td>0.090894</td>\n",
       "      <td>0.234714</td>\n",
       "      <td>...</td>\n",
       "      <td>32.370380</td>\n",
       "      <td>30.323753</td>\n",
       "      <td>205.698933</td>\n",
       "      <td>2533.672000</td>\n",
       "      <td>0.160362</td>\n",
       "      <td>0.241709</td>\n",
       "      <td>0.312953</td>\n",
       "      <td>240.932000</td>\n",
       "      <td>356.216667</td>\n",
       "      <td>0.115311</td>\n",
       "    </tr>\n",
       "    <tr>\n",
       "      <th>2</th>\n",
       "      <td>1</td>\n",
       "      <td>25.505113</td>\n",
       "      <td>27.525833</td>\n",
       "      <td>168.393333</td>\n",
       "      <td>1558.286000</td>\n",
       "      <td>0.141969</td>\n",
       "      <td>0.207124</td>\n",
       "      <td>0.255699</td>\n",
       "      <td>0.165673</td>\n",
       "      <td>0.268004</td>\n",
       "      <td>...</td>\n",
       "      <td>30.531007</td>\n",
       "      <td>33.069860</td>\n",
       "      <td>197.538333</td>\n",
       "      <td>2213.724667</td>\n",
       "      <td>0.187046</td>\n",
       "      <td>0.549869</td>\n",
       "      <td>0.583418</td>\n",
       "      <td>314.766000</td>\n",
       "      <td>0.468004</td>\n",
       "      <td>0.113445</td>\n",
       "    </tr>\n",
       "    <tr>\n",
       "      <th>3</th>\n",
       "      <td>1</td>\n",
       "      <td>14.792707</td>\n",
       "      <td>26.398893</td>\n",
       "      <td>100.491960</td>\n",
       "      <td>500.128200</td>\n",
       "      <td>0.184585</td>\n",
       "      <td>0.367745</td>\n",
       "      <td>0.312693</td>\n",
       "      <td>0.136269</td>\n",
       "      <td>0.336398</td>\n",
       "      <td>...</td>\n",
       "      <td>19.313420</td>\n",
       "      <td>34.326333</td>\n",
       "      <td>128.069607</td>\n",
       "      <td>735.360733</td>\n",
       "      <td>0.271761</td>\n",
       "      <td>1.122147</td>\n",
       "      <td>0.889764</td>\n",
       "      <td>0.333548</td>\n",
       "      <td>0.859842</td>\n",
       "      <td>224.092667</td>\n",
       "    </tr>\n",
       "    <tr>\n",
       "      <th>4</th>\n",
       "      <td>1</td>\n",
       "      <td>26.282313</td>\n",
       "      <td>18.575080</td>\n",
       "      <td>174.999533</td>\n",
       "      <td>1680.047333</td>\n",
       "      <td>0.129922</td>\n",
       "      <td>0.172020</td>\n",
       "      <td>256.476000</td>\n",
       "      <td>0.135103</td>\n",
       "      <td>0.234326</td>\n",
       "      <td>...</td>\n",
       "      <td>29.196813</td>\n",
       "      <td>21.593207</td>\n",
       "      <td>197.149733</td>\n",
       "      <td>2040.150000</td>\n",
       "      <td>0.177979</td>\n",
       "      <td>265.543333</td>\n",
       "      <td>0.518133</td>\n",
       "      <td>0.210492</td>\n",
       "      <td>0.306217</td>\n",
       "      <td>0.099456</td>\n",
       "    </tr>\n",
       "    <tr>\n",
       "      <th>...</th>\n",
       "      <td>...</td>\n",
       "      <td>...</td>\n",
       "      <td>...</td>\n",
       "      <td>...</td>\n",
       "      <td>...</td>\n",
       "      <td>...</td>\n",
       "      <td>...</td>\n",
       "      <td>...</td>\n",
       "      <td>...</td>\n",
       "      <td>...</td>\n",
       "      <td>...</td>\n",
       "      <td>...</td>\n",
       "      <td>...</td>\n",
       "      <td>...</td>\n",
       "      <td>...</td>\n",
       "      <td>...</td>\n",
       "      <td>...</td>\n",
       "      <td>...</td>\n",
       "      <td>...</td>\n",
       "      <td>...</td>\n",
       "      <td>...</td>\n",
       "    </tr>\n",
       "    <tr>\n",
       "      <th>543</th>\n",
       "      <td>1</td>\n",
       "      <td>27.927387</td>\n",
       "      <td>29.002513</td>\n",
       "      <td>183.937333</td>\n",
       "      <td>1915.798000</td>\n",
       "      <td>143.782000</td>\n",
       "      <td>0.150129</td>\n",
       "      <td>0.315932</td>\n",
       "      <td>0.179922</td>\n",
       "      <td>0.223575</td>\n",
       "      <td>...</td>\n",
       "      <td>32.966233</td>\n",
       "      <td>34.196800</td>\n",
       "      <td>215.154867</td>\n",
       "      <td>2625.640667</td>\n",
       "      <td>182.642000</td>\n",
       "      <td>0.273704</td>\n",
       "      <td>0.531993</td>\n",
       "      <td>0.287046</td>\n",
       "      <td>266.838667</td>\n",
       "      <td>0.092163</td>\n",
       "    </tr>\n",
       "    <tr>\n",
       "      <th>544</th>\n",
       "      <td>1</td>\n",
       "      <td>26.075060</td>\n",
       "      <td>36.593167</td>\n",
       "      <td>169.947733</td>\n",
       "      <td>1633.415333</td>\n",
       "      <td>0.126684</td>\n",
       "      <td>0.133937</td>\n",
       "      <td>186.528000</td>\n",
       "      <td>0.126826</td>\n",
       "      <td>0.226942</td>\n",
       "      <td>...</td>\n",
       "      <td>30.686447</td>\n",
       "      <td>49.546500</td>\n",
       "      <td>200.776667</td>\n",
       "      <td>2242.222000</td>\n",
       "      <td>0.151036</td>\n",
       "      <td>0.248963</td>\n",
       "      <td>0.416450</td>\n",
       "      <td>0.210880</td>\n",
       "      <td>0.333160</td>\n",
       "      <td>0.085971</td>\n",
       "    </tr>\n",
       "    <tr>\n",
       "      <th>545</th>\n",
       "      <td>1</td>\n",
       "      <td>21.502533</td>\n",
       "      <td>36.372960</td>\n",
       "      <td>140.284600</td>\n",
       "      <td>1111.525533</td>\n",
       "      <td>0.109520</td>\n",
       "      <td>0.132513</td>\n",
       "      <td>0.119831</td>\n",
       "      <td>0.068679</td>\n",
       "      <td>205.958000</td>\n",
       "      <td>...</td>\n",
       "      <td>24.585427</td>\n",
       "      <td>44.196773</td>\n",
       "      <td>164.118733</td>\n",
       "      <td>1455.954667</td>\n",
       "      <td>0.147538</td>\n",
       "      <td>0.400776</td>\n",
       "      <td>0.440802</td>\n",
       "      <td>0.183678</td>\n",
       "      <td>0.287305</td>\n",
       "      <td>0.101295</td>\n",
       "    </tr>\n",
       "    <tr>\n",
       "      <th>546</th>\n",
       "      <td>1</td>\n",
       "      <td>26.683867</td>\n",
       "      <td>37.992127</td>\n",
       "      <td>181.476200</td>\n",
       "      <td>1638.596667</td>\n",
       "      <td>0.152590</td>\n",
       "      <td>358.807333</td>\n",
       "      <td>0.455180</td>\n",
       "      <td>196.890667</td>\n",
       "      <td>0.310491</td>\n",
       "      <td>...</td>\n",
       "      <td>33.341880</td>\n",
       "      <td>51.062040</td>\n",
       "      <td>239.118533</td>\n",
       "      <td>2358.802000</td>\n",
       "      <td>213.730000</td>\n",
       "      <td>1.124479</td>\n",
       "      <td>1.215929</td>\n",
       "      <td>343.263333</td>\n",
       "      <td>0.529403</td>\n",
       "      <td>160.621333</td>\n",
       "    </tr>\n",
       "    <tr>\n",
       "      <th>547</th>\n",
       "      <td>0</td>\n",
       "      <td>10.051787</td>\n",
       "      <td>31.787480</td>\n",
       "      <td>62.072373</td>\n",
       "      <td>234.455333</td>\n",
       "      <td>0.068173</td>\n",
       "      <td>0.056502</td>\n",
       "      <td>0.000000</td>\n",
       "      <td>0.000000</td>\n",
       "      <td>0.205569</td>\n",
       "      <td>...</td>\n",
       "      <td>12248.672000</td>\n",
       "      <td>39.339273</td>\n",
       "      <td>76.631920</td>\n",
       "      <td>347.926533</td>\n",
       "      <td>0.116528</td>\n",
       "      <td>0.083471</td>\n",
       "      <td>0.000000</td>\n",
       "      <td>0.000000</td>\n",
       "      <td>0.371890</td>\n",
       "      <td>0.091179</td>\n",
       "    </tr>\n",
       "  </tbody>\n",
       "</table>\n",
       "<p>548 rows × 31 columns</p>\n",
       "</div>"
      ],
      "text/plain": [
       "     Type  URL_LENGTH  NUMBER_SPECIAL_CHARACTERS  TCP_CONVERSATION_EXCHANGE  \\\n",
       "0       1   23.303047                  13.445560                 159.066933   \n",
       "1       1   26.645007                  23.018073                 172.149800   \n",
       "2       1   25.505113                  27.525833                 168.393333   \n",
       "3       1   14.792707                  26.398893                 100.491960   \n",
       "4       1   26.282313                  18.575080                 174.999533   \n",
       "..    ...         ...                        ...                        ...   \n",
       "543     1   27.927387                  29.002513                 183.937333   \n",
       "544     1   26.075060                  36.593167                 169.947733   \n",
       "545     1   21.502533                  36.372960                 140.284600   \n",
       "546     1   26.683867                  37.992127                 181.476200   \n",
       "547     0   10.051787                  31.787480                  62.072373   \n",
       "\n",
       "     DIST_REMOTE_TCP_PORT  REMOTE_IPS   APP_BYTES  SOURCE_APP_PACKETS  \\\n",
       "0             1296.628667    0.153367    0.359585            0.388730   \n",
       "1             1717.612000    0.109767    0.101865            0.112564   \n",
       "2             1558.286000    0.141969    0.207124            0.255699   \n",
       "3              500.128200    0.184585    0.367745            0.312693   \n",
       "4             1680.047333    0.129922    0.172020          256.476000   \n",
       "..                    ...         ...         ...                 ...   \n",
       "543           1915.798000  143.782000    0.150129            0.315932   \n",
       "544           1633.415333    0.126684    0.133937          186.528000   \n",
       "545           1111.525533    0.109520    0.132513            0.119831   \n",
       "546           1638.596667    0.152590  358.807333            0.455180   \n",
       "547            234.455333    0.068173    0.056502            0.000000   \n",
       "\n",
       "     REMOTE_APP_PACKETS  SOURCE_APP_BYTES  ...      SOURCE_I   SOURCE_J  \\\n",
       "0              0.190544          0.313341  ...     32.875560  22.448127   \n",
       "1              0.090894          0.234714  ...     32.370380  30.323753   \n",
       "2              0.165673          0.268004  ...     30.531007  33.069860   \n",
       "3              0.136269          0.336398  ...     19.313420  34.326333   \n",
       "4              0.135103          0.234326  ...     29.196813  21.593207   \n",
       "..                  ...               ...  ...           ...        ...   \n",
       "543            0.179922          0.223575  ...     32.966233  34.196800   \n",
       "544            0.126826          0.226942  ...     30.686447  49.546500   \n",
       "545            0.068679        205.958000  ...     24.585427  44.196773   \n",
       "546          196.890667          0.310491  ...     33.341880  51.062040   \n",
       "547            0.000000          0.205569  ...  12248.672000  39.339273   \n",
       "\n",
       "       SOURCE_K     SOURCE_M    SOURCE_L    SOURCE_N  SOURCE_O    SOURCE_P  \\\n",
       "0    239.118533  2615.278000    0.210103    0.862174  0.922148    0.343781   \n",
       "1    205.698933  2533.672000    0.160362    0.241709  0.312953  240.932000   \n",
       "2    197.538333  2213.724667    0.187046    0.549869  0.583418  314.766000   \n",
       "3    128.069607   735.360733    0.271761    1.122147  0.889764    0.333548   \n",
       "4    197.149733  2040.150000    0.177979  265.543333  0.518133    0.210492   \n",
       "..          ...          ...         ...         ...       ...         ...   \n",
       "543  215.154867  2625.640667  182.642000    0.273704  0.531993    0.287046   \n",
       "544  200.776667  2242.222000    0.151036    0.248963  0.416450    0.210880   \n",
       "545  164.118733  1455.954667    0.147538    0.400776  0.440802    0.183678   \n",
       "546  239.118533  2358.802000  213.730000    1.124479  1.215929  343.263333   \n",
       "547   76.631920   347.926533    0.116528    0.083471  0.000000    0.000000   \n",
       "\n",
       "       SOURCE_R    SOURCE_S  \n",
       "0      0.595983    0.154015  \n",
       "1    356.216667    0.115311  \n",
       "2      0.468004    0.113445  \n",
       "3      0.859842  224.092667  \n",
       "4      0.306217    0.099456  \n",
       "..          ...         ...  \n",
       "543  266.838667    0.092163  \n",
       "544    0.333160    0.085971  \n",
       "545    0.287305    0.101295  \n",
       "546    0.529403  160.621333  \n",
       "547    0.371890    0.091179  \n",
       "\n",
       "[548 rows x 31 columns]"
      ]
     },
     "execution_count": 7,
     "metadata": {},
     "output_type": "execute_result"
    }
   ],
   "source": [
    "dataFrame"
   ]
  },
  {
   "cell_type": "code",
   "execution_count": 10,
   "id": "2bbf9ab2",
   "metadata": {},
   "outputs": [
    {
     "name": "stdout",
     "output_type": "stream",
     "text": [
      "<class 'pandas.core.frame.DataFrame'>\n",
      "RangeIndex: 548 entries, 0 to 547\n",
      "Data columns (total 31 columns):\n",
      " #   Column                     Non-Null Count  Dtype  \n",
      "---  ------                     --------------  -----  \n",
      " 0   Type                       548 non-null    int64  \n",
      " 1   URL_LENGTH                 548 non-null    float64\n",
      " 2   NUMBER_SPECIAL_CHARACTERS  548 non-null    float64\n",
      " 3   TCP_CONVERSATION_EXCHANGE  548 non-null    float64\n",
      " 4   DIST_REMOTE_TCP_PORT       548 non-null    float64\n",
      " 5   REMOTE_IPS                 548 non-null    float64\n",
      " 6   APP_BYTES                  548 non-null    float64\n",
      " 7   SOURCE_APP_PACKETS         548 non-null    float64\n",
      " 8   REMOTE_APP_PACKETS         548 non-null    float64\n",
      " 9   SOURCE_APP_BYTES           548 non-null    float64\n",
      " 10  REMOTE_APP_BYTES           548 non-null    float64\n",
      " 11  APP_PACKETS                548 non-null    float64\n",
      " 12  DNS_QUERY_TIMES            548 non-null    float64\n",
      " 13  SOURCE_A                   548 non-null    float64\n",
      " 14  SOURCE_B                   548 non-null    float64\n",
      " 15  SOURCE_C                   548 non-null    float64\n",
      " 16  SOURCE_D                   548 non-null    float64\n",
      " 17  SOURCE_F                   548 non-null    float64\n",
      " 18  SOURCE_E                   548 non-null    float64\n",
      " 19  SOURCE_G                   548 non-null    float64\n",
      " 20  SOURCE_H                   548 non-null    float64\n",
      " 21  SOURCE_I                   548 non-null    float64\n",
      " 22  SOURCE_J                   548 non-null    float64\n",
      " 23  SOURCE_K                   548 non-null    float64\n",
      " 24  SOURCE_M                   548 non-null    float64\n",
      " 25  SOURCE_L                   548 non-null    float64\n",
      " 26  SOURCE_N                   548 non-null    float64\n",
      " 27  SOURCE_O                   548 non-null    float64\n",
      " 28  SOURCE_P                   548 non-null    float64\n",
      " 29  SOURCE_R                   548 non-null    float64\n",
      " 30  SOURCE_S                   548 non-null    float64\n",
      "dtypes: float64(30), int64(1)\n",
      "memory usage: 132.8 KB\n"
     ]
    }
   ],
   "source": [
    "dataFrame.info()"
   ]
  },
  {
   "cell_type": "code",
   "execution_count": 9,
   "id": "8c8e44c9",
   "metadata": {},
   "outputs": [
    {
     "data": {
      "text/html": [
       "<div>\n",
       "<style scoped>\n",
       "    .dataframe tbody tr th:only-of-type {\n",
       "        vertical-align: middle;\n",
       "    }\n",
       "\n",
       "    .dataframe tbody tr th {\n",
       "        vertical-align: top;\n",
       "    }\n",
       "\n",
       "    .dataframe thead th {\n",
       "        text-align: right;\n",
       "    }\n",
       "</style>\n",
       "<table border=\"1\" class=\"dataframe\">\n",
       "  <thead>\n",
       "    <tr style=\"text-align: right;\">\n",
       "      <th></th>\n",
       "      <th>Type</th>\n",
       "      <th>URL_LENGTH</th>\n",
       "      <th>NUMBER_SPECIAL_CHARACTERS</th>\n",
       "      <th>TCP_CONVERSATION_EXCHANGE</th>\n",
       "      <th>DIST_REMOTE_TCP_PORT</th>\n",
       "      <th>REMOTE_IPS</th>\n",
       "      <th>APP_BYTES</th>\n",
       "      <th>SOURCE_APP_PACKETS</th>\n",
       "      <th>REMOTE_APP_PACKETS</th>\n",
       "      <th>SOURCE_APP_BYTES</th>\n",
       "      <th>...</th>\n",
       "      <th>SOURCE_I</th>\n",
       "      <th>SOURCE_J</th>\n",
       "      <th>SOURCE_K</th>\n",
       "      <th>SOURCE_M</th>\n",
       "      <th>SOURCE_L</th>\n",
       "      <th>SOURCE_N</th>\n",
       "      <th>SOURCE_O</th>\n",
       "      <th>SOURCE_P</th>\n",
       "      <th>SOURCE_R</th>\n",
       "      <th>SOURCE_S</th>\n",
       "    </tr>\n",
       "  </thead>\n",
       "  <tbody>\n",
       "    <tr>\n",
       "      <th>count</th>\n",
       "      <td>548.000000</td>\n",
       "      <td>548.000000</td>\n",
       "      <td>548.000000</td>\n",
       "      <td>548.000000</td>\n",
       "      <td>548.000000</td>\n",
       "      <td>548.000000</td>\n",
       "      <td>548.000000</td>\n",
       "      <td>548.000000</td>\n",
       "      <td>548.000000</td>\n",
       "      <td>548.000000</td>\n",
       "      <td>...</td>\n",
       "      <td>548.000000</td>\n",
       "      <td>548.000000</td>\n",
       "      <td>548.000000</td>\n",
       "      <td>548.000000</td>\n",
       "      <td>548.000000</td>\n",
       "      <td>548.000000</td>\n",
       "      <td>548.000000</td>\n",
       "      <td>548.000000</td>\n",
       "      <td>548.000000</td>\n",
       "      <td>548.000000</td>\n",
       "    </tr>\n",
       "    <tr>\n",
       "      <th>mean</th>\n",
       "      <td>0.383212</td>\n",
       "      <td>949.973475</td>\n",
       "      <td>25.015747</td>\n",
       "      <td>119.725438</td>\n",
       "      <td>857.123249</td>\n",
       "      <td>5.785481</td>\n",
       "      <td>6.499737</td>\n",
       "      <td>10.069604</td>\n",
       "      <td>3.181365</td>\n",
       "      <td>22.809689</td>\n",
       "      <td>...</td>\n",
       "      <td>399.714125</td>\n",
       "      <td>33.295952</td>\n",
       "      <td>139.830855</td>\n",
       "      <td>1155.666380</td>\n",
       "      <td>14.295530</td>\n",
       "      <td>32.855845</td>\n",
       "      <td>34.913670</td>\n",
       "      <td>11.758580</td>\n",
       "      <td>40.829159</td>\n",
       "      <td>2.637820</td>\n",
       "    </tr>\n",
       "    <tr>\n",
       "      <th>std</th>\n",
       "      <td>0.486613</td>\n",
       "      <td>3202.802599</td>\n",
       "      <td>5.605685</td>\n",
       "      <td>31.842845</td>\n",
       "      <td>461.579998</td>\n",
       "      <td>27.796268</td>\n",
       "      <td>35.390031</td>\n",
       "      <td>46.976527</td>\n",
       "      <td>21.315640</td>\n",
       "      <td>70.942060</td>\n",
       "      <td>...</td>\n",
       "      <td>2117.405314</td>\n",
       "      <td>7.956699</td>\n",
       "      <td>44.017609</td>\n",
       "      <td>746.777340</td>\n",
       "      <td>49.075477</td>\n",
       "      <td>126.026487</td>\n",
       "      <td>149.880701</td>\n",
       "      <td>52.045464</td>\n",
       "      <td>119.531119</td>\n",
       "      <td>19.086225</td>\n",
       "    </tr>\n",
       "    <tr>\n",
       "      <th>min</th>\n",
       "      <td>0.000000</td>\n",
       "      <td>10.051787</td>\n",
       "      <td>12.577687</td>\n",
       "      <td>56.722647</td>\n",
       "      <td>185.880333</td>\n",
       "      <td>0.068173</td>\n",
       "      <td>0.025104</td>\n",
       "      <td>0.000000</td>\n",
       "      <td>0.000000</td>\n",
       "      <td>0.151165</td>\n",
       "      <td>...</td>\n",
       "      <td>10.271993</td>\n",
       "      <td>15.569907</td>\n",
       "      <td>65.297753</td>\n",
       "      <td>239.895733</td>\n",
       "      <td>0.105246</td>\n",
       "      <td>0.044456</td>\n",
       "      <td>0.000000</td>\n",
       "      <td>0.000000</td>\n",
       "      <td>0.202720</td>\n",
       "      <td>0.071295</td>\n",
       "    </tr>\n",
       "    <tr>\n",
       "      <th>25%</th>\n",
       "      <td>0.000000</td>\n",
       "      <td>15.838688</td>\n",
       "      <td>20.987638</td>\n",
       "      <td>97.470595</td>\n",
       "      <td>544.622900</td>\n",
       "      <td>0.112309</td>\n",
       "      <td>0.084718</td>\n",
       "      <td>0.038394</td>\n",
       "      <td>0.026383</td>\n",
       "      <td>0.211755</td>\n",
       "      <td>...</td>\n",
       "      <td>17.082208</td>\n",
       "      <td>27.325057</td>\n",
       "      <td>108.999062</td>\n",
       "      <td>667.971017</td>\n",
       "      <td>0.154501</td>\n",
       "      <td>0.196275</td>\n",
       "      <td>0.152558</td>\n",
       "      <td>0.084805</td>\n",
       "      <td>0.331022</td>\n",
       "      <td>0.093099</td>\n",
       "    </tr>\n",
       "    <tr>\n",
       "      <th>50%</th>\n",
       "      <td>0.000000</td>\n",
       "      <td>18.069900</td>\n",
       "      <td>24.423510</td>\n",
       "      <td>112.920683</td>\n",
       "      <td>723.637967</td>\n",
       "      <td>0.125084</td>\n",
       "      <td>0.122720</td>\n",
       "      <td>0.085395</td>\n",
       "      <td>0.045304</td>\n",
       "      <td>0.235168</td>\n",
       "      <td>...</td>\n",
       "      <td>19.838030</td>\n",
       "      <td>32.972710</td>\n",
       "      <td>127.117537</td>\n",
       "      <td>901.616767</td>\n",
       "      <td>0.173899</td>\n",
       "      <td>0.297149</td>\n",
       "      <td>0.328950</td>\n",
       "      <td>0.132318</td>\n",
       "      <td>0.374869</td>\n",
       "      <td>0.103743</td>\n",
       "    </tr>\n",
       "    <tr>\n",
       "      <th>75%</th>\n",
       "      <td>1.000000</td>\n",
       "      <td>23.264187</td>\n",
       "      <td>28.270650</td>\n",
       "      <td>137.175800</td>\n",
       "      <td>1037.270550</td>\n",
       "      <td>0.137694</td>\n",
       "      <td>0.172215</td>\n",
       "      <td>0.189799</td>\n",
       "      <td>0.101201</td>\n",
       "      <td>0.266159</td>\n",
       "      <td>...</td>\n",
       "      <td>25.919620</td>\n",
       "      <td>38.698083</td>\n",
       "      <td>164.636867</td>\n",
       "      <td>1460.488333</td>\n",
       "      <td>0.194689</td>\n",
       "      <td>0.497797</td>\n",
       "      <td>0.559098</td>\n",
       "      <td>0.223866</td>\n",
       "      <td>0.430342</td>\n",
       "      <td>0.119375</td>\n",
       "    </tr>\n",
       "    <tr>\n",
       "      <th>max</th>\n",
       "      <td>1.000000</td>\n",
       "      <td>12828.981333</td>\n",
       "      <td>50.880693</td>\n",
       "      <td>244.170333</td>\n",
       "      <td>3239.628667</td>\n",
       "      <td>159.326000</td>\n",
       "      <td>358.807333</td>\n",
       "      <td>405.439333</td>\n",
       "      <td>209.844000</td>\n",
       "      <td>393.781333</td>\n",
       "      <td>...</td>\n",
       "      <td>12928.722000</td>\n",
       "      <td>64.170813</td>\n",
       "      <td>325.387733</td>\n",
       "      <td>5510.348000</td>\n",
       "      <td>239.636667</td>\n",
       "      <td>1370.462667</td>\n",
       "      <td>1621.757333</td>\n",
       "      <td>376.942000</td>\n",
       "      <td>704.661333</td>\n",
       "      <td>224.092667</td>\n",
       "    </tr>\n",
       "  </tbody>\n",
       "</table>\n",
       "<p>8 rows × 31 columns</p>\n",
       "</div>"
      ],
      "text/plain": [
       "             Type    URL_LENGTH  NUMBER_SPECIAL_CHARACTERS  \\\n",
       "count  548.000000    548.000000                 548.000000   \n",
       "mean     0.383212    949.973475                  25.015747   \n",
       "std      0.486613   3202.802599                   5.605685   \n",
       "min      0.000000     10.051787                  12.577687   \n",
       "25%      0.000000     15.838688                  20.987638   \n",
       "50%      0.000000     18.069900                  24.423510   \n",
       "75%      1.000000     23.264187                  28.270650   \n",
       "max      1.000000  12828.981333                  50.880693   \n",
       "\n",
       "       TCP_CONVERSATION_EXCHANGE  DIST_REMOTE_TCP_PORT  REMOTE_IPS  \\\n",
       "count                 548.000000            548.000000  548.000000   \n",
       "mean                  119.725438            857.123249    5.785481   \n",
       "std                    31.842845            461.579998   27.796268   \n",
       "min                    56.722647            185.880333    0.068173   \n",
       "25%                    97.470595            544.622900    0.112309   \n",
       "50%                   112.920683            723.637967    0.125084   \n",
       "75%                   137.175800           1037.270550    0.137694   \n",
       "max                   244.170333           3239.628667  159.326000   \n",
       "\n",
       "        APP_BYTES  SOURCE_APP_PACKETS  REMOTE_APP_PACKETS  SOURCE_APP_BYTES  \\\n",
       "count  548.000000          548.000000          548.000000        548.000000   \n",
       "mean     6.499737           10.069604            3.181365         22.809689   \n",
       "std     35.390031           46.976527           21.315640         70.942060   \n",
       "min      0.025104            0.000000            0.000000          0.151165   \n",
       "25%      0.084718            0.038394            0.026383          0.211755   \n",
       "50%      0.122720            0.085395            0.045304          0.235168   \n",
       "75%      0.172215            0.189799            0.101201          0.266159   \n",
       "max    358.807333          405.439333          209.844000        393.781333   \n",
       "\n",
       "       ...      SOURCE_I    SOURCE_J    SOURCE_K     SOURCE_M    SOURCE_L  \\\n",
       "count  ...    548.000000  548.000000  548.000000   548.000000  548.000000   \n",
       "mean   ...    399.714125   33.295952  139.830855  1155.666380   14.295530   \n",
       "std    ...   2117.405314    7.956699   44.017609   746.777340   49.075477   \n",
       "min    ...     10.271993   15.569907   65.297753   239.895733    0.105246   \n",
       "25%    ...     17.082208   27.325057  108.999062   667.971017    0.154501   \n",
       "50%    ...     19.838030   32.972710  127.117537   901.616767    0.173899   \n",
       "75%    ...     25.919620   38.698083  164.636867  1460.488333    0.194689   \n",
       "max    ...  12928.722000   64.170813  325.387733  5510.348000  239.636667   \n",
       "\n",
       "          SOURCE_N     SOURCE_O    SOURCE_P    SOURCE_R    SOURCE_S  \n",
       "count   548.000000   548.000000  548.000000  548.000000  548.000000  \n",
       "mean     32.855845    34.913670   11.758580   40.829159    2.637820  \n",
       "std     126.026487   149.880701   52.045464  119.531119   19.086225  \n",
       "min       0.044456     0.000000    0.000000    0.202720    0.071295  \n",
       "25%       0.196275     0.152558    0.084805    0.331022    0.093099  \n",
       "50%       0.297149     0.328950    0.132318    0.374869    0.103743  \n",
       "75%       0.497797     0.559098    0.223866    0.430342    0.119375  \n",
       "max    1370.462667  1621.757333  376.942000  704.661333  224.092667  \n",
       "\n",
       "[8 rows x 31 columns]"
      ]
     },
     "execution_count": 9,
     "metadata": {},
     "output_type": "execute_result"
    }
   ],
   "source": [
    "dataFrame.describe()"
   ]
  },
  {
   "cell_type": "code",
   "execution_count": 11,
   "id": "7c7d3531",
   "metadata": {},
   "outputs": [
    {
     "data": {
      "text/plain": [
       "URL_LENGTH                  -0.228422\n",
       "SOURCE_I                    -0.138708\n",
       "SOURCE_B                    -0.128587\n",
       "SOURCE_APP_BYTES            -0.086080\n",
       "SOURCE_C                    -0.075369\n",
       "REMOTE_APP_BYTES            -0.048806\n",
       "SOURCE_G                    -0.017433\n",
       "DNS_QUERY_TIMES             -0.011055\n",
       "SOURCE_F                    -0.007551\n",
       "SOURCE_E                     0.001985\n",
       "SOURCE_L                     0.022932\n",
       "SOURCE_D                     0.029479\n",
       "SOURCE_H                     0.055045\n",
       "SOURCE_O                     0.063622\n",
       "SOURCE_R                     0.069140\n",
       "SOURCE_N                     0.088076\n",
       "APP_BYTES                    0.096659\n",
       "REMOTE_IPS                   0.126232\n",
       "SOURCE_APP_PACKETS           0.129433\n",
       "REMOTE_APP_PACKETS           0.139874\n",
       "SOURCE_S                     0.141134\n",
       "SOURCE_P                     0.205141\n",
       "APP_PACKETS                  0.240818\n",
       "NUMBER_SPECIAL_CHARACTERS    0.412095\n",
       "SOURCE_J                     0.453197\n",
       "SOURCE_A                     0.536539\n",
       "DIST_REMOTE_TCP_PORT         0.710294\n",
       "SOURCE_M                     0.734002\n",
       "TCP_CONVERSATION_EXCHANGE    0.744570\n",
       "SOURCE_K                     0.784173\n",
       "Type                         1.000000\n",
       "Name: Type, dtype: float64"
      ]
     },
     "execution_count": 11,
     "metadata": {},
     "output_type": "execute_result"
    }
   ],
   "source": [
    "dataFrame.corr()[\"Type\"].sort_values()"
   ]
  },
  {
   "cell_type": "code",
   "execution_count": 12,
   "id": "c0dedc67",
   "metadata": {},
   "outputs": [],
   "source": [
    "import matplotlib.pyplot as plt\n",
    "import seaborn as sbn"
   ]
  },
  {
   "cell_type": "code",
   "execution_count": 14,
   "id": "6b4a841d",
   "metadata": {},
   "outputs": [
    {
     "data": {
      "text/plain": [
       "<Axes: xlabel='Type', ylabel='count'>"
      ]
     },
     "execution_count": 14,
     "metadata": {},
     "output_type": "execute_result"
    },
    {
     "data": {
      "image/png": "[encoded data removed]",
      "text/plain": [
       "<Figure size 640x480 with 1 Axes>"
      ]
     },
     "metadata": {},
     "output_type": "display_data"
    }
   ],
   "source": [
    "sbn.countplot(x=\"Type\",data=dataFrame)"
   ]
  },
  {
   "cell_type": "code",
   "execution_count": 15,
   "id": "348a0e6c",
   "metadata": {},
   "outputs": [
    {
     "data": {
      "text/plain": [
       "<Axes: >"
      ]
     },
     "execution_count": 15,
     "metadata": {},
     "output_type": "execute_result"
    },
    {
     "data": {
      "image/png": "[encoded data removed]",
      "text/plain": [
       "<Figure size 640x480 with 1 Axes>"
      ]
     },
     "metadata": {},
     "output_type": "display_data"
    }
   ],
   "source": [
    "dataFrame.corr()[\"Type\"].sort_values().plot(kind=\"bar\")"
   ]
  },
  {
   "cell_type": "code",
   "execution_count": 16,
   "id": "2e9d3b75",
   "metadata": {},
   "outputs": [],
   "source": [
    "y=dataFrame[\"Type\"].values\n",
    "x=dataFrame.drop(\"Type\",axis=1).values"
   ]
  },
  {
   "cell_type": "code",
   "execution_count": 18,
   "id": "64f95585",
   "metadata": {},
   "outputs": [],
   "source": [
    "from sklearn.model_selection import train_test_split"
   ]
  },
  {
   "cell_type": "code",
   "execution_count": 24,
   "id": "cadf382e",
   "metadata": {},
   "outputs": [],
   "source": [
    "x_train,y_train,x_test,y_test=train_test_split(x,y,test_size=0.3,random_state=15)"
   ]
  },
  {
   "cell_type": "code",
   "execution_count": 25,
   "id": "a57d245e",
   "metadata": {},
   "outputs": [],
   "source": [
    "from sklearn.preprocessing import MinMaxScaler"
   ]
  },
  {
   "cell_type": "code",
   "execution_count": 26,
   "id": "1587cf8e",
   "metadata": {},
   "outputs": [],
   "source": [
    "scaler=MinMaxScaler()"
   ]
  },
  {
   "cell_type": "code",
   "execution_count": 27,
   "id": "cd3ff4cd",
   "metadata": {},
   "outputs": [
    {
     "data": {
      "text/html": [
       "<style>#sk-container-id-1 {color: black;}#sk-container-id-1 pre{padding: 0;}#sk-container-id-1 div.sk-toggleable {background-color: white;}#sk-container-id-1 label.sk-toggleable__label {cursor: pointer;display: block;width: 100%;margin-bottom: 0;padding: 0.3em;box-sizing: border-box;text-align: center;}#sk-container-id-1 label.sk-toggleable__label-arrow:before {content: \"▸\";float: left;margin-right: 0.25em;color: #696969;}#sk-container-id-1 label.sk-toggleable__label-arrow:hover:before {color: black;}#sk-container-id-1 div.sk-estimator:hover label.sk-toggleable__label-arrow:before {color: black;}#sk-container-id-1 div.sk-toggleable__content {max-height: 0;max-width: 0;overflow: hidden;text-align: left;background-color: #f0f8ff;}#sk-container-id-1 div.sk-toggleable__content pre {margin: 0.2em;color: black;border-radius: 0.25em;background-color: #f0f8ff;}#sk-container-id-1 input.sk-toggleable__control:checked~div.sk-toggleable__content {max-height: 200px;max-width: 100%;overflow: auto;}#sk-container-id-1 input.sk-toggleable__control:checked~label.sk-toggleable__label-arrow:before {content: \"▾\";}#sk-container-id-1 div.sk-estimator input.sk-toggleable__control:checked~label.sk-toggleable__label {background-color: #d4ebff;}#sk-container-id-1 div.sk-label input.sk-toggleable__control:checked~label.sk-toggleable__label {background-color: #d4ebff;}#sk-container-id-1 input.sk-hidden--visually {border: 0;clip: rect(1px 1px 1px 1px);clip: rect(1px, 1px, 1px, 1px);height: 1px;margin: -1px;overflow: hidden;padding: 0;position: absolute;width: 1px;}#sk-container-id-1 div.sk-estimator {font-family: monospace;background-color: #f0f8ff;border: 1px dotted black;border-radius: 0.25em;box-sizing: border-box;margin-bottom: 0.5em;}#sk-container-id-1 div.sk-estimator:hover {background-color: #d4ebff;}#sk-container-id-1 div.sk-parallel-item::after {content: \"\";width: 100%;border-bottom: 1px solid gray;flex-grow: 1;}#sk-container-id-1 div.sk-label:hover label.sk-toggleable__label {background-color: #d4ebff;}#sk-container-id-1 div.sk-serial::before {content: \"\";position: absolute;border-left: 1px solid gray;box-sizing: border-box;top: 0;bottom: 0;left: 50%;z-index: 0;}#sk-container-id-1 div.sk-serial {display: flex;flex-direction: column;align-items: center;background-color: white;padding-right: 0.2em;padding-left: 0.2em;position: relative;}#sk-container-id-1 div.sk-item {position: relative;z-index: 1;}#sk-container-id-1 div.sk-parallel {display: flex;align-items: stretch;justify-content: center;background-color: white;position: relative;}#sk-container-id-1 div.sk-item::before, #sk-container-id-1 div.sk-parallel-item::before {content: \"\";position: absolute;border-left: 1px solid gray;box-sizing: border-box;top: 0;bottom: 0;left: 50%;z-index: -1;}#sk-container-id-1 div.sk-parallel-item {display: flex;flex-direction: column;z-index: 1;position: relative;background-color: white;}#sk-container-id-1 div.sk-parallel-item:first-child::after {align-self: flex-end;width: 50%;}#sk-container-id-1 div.sk-parallel-item:last-child::after {align-self: flex-start;width: 50%;}#sk-container-id-1 div.sk-parallel-item:only-child::after {width: 0;}#sk-container-id-1 div.sk-dashed-wrapped {border: 1px dashed gray;margin: 0 0.4em 0.5em 0.4em;box-sizing: border-box;padding-bottom: 0.4em;background-color: white;}#sk-container-id-1 div.sk-label label {font-family: monospace;font-weight: bold;display: inline-block;line-height: 1.2em;}#sk-container-id-1 div.sk-label-container {text-align: center;}#sk-container-id-1 div.sk-container {/* jupyter's `normalize.less` sets `[hidden] { display: none; }` but bootstrap.min.css set `[hidden] { display: none !important; }` so we also need the `!important` here to be able to override the default hidden behavior on the sphinx rendered scikit-learn.org. See: https://github.com/scikit-learn/scikit-learn/issues/21755 */display: inline-block !important;position: relative;}#sk-container-id-1 div.sk-text-repr-fallback {display: none;}</style><div id=\"sk-container-id-1\" class=\"sk-top-container\"><div class=\"sk-text-repr-fallback\"><pre>MinMaxScaler()</pre><b>In a Jupyter environment, please rerun this cell to show the HTML representation or trust the notebook. <br />On GitHub, the HTML representation is unable to render, please try loading this page with nbviewer.org.</b></div><div class=\"sk-container\" hidden><div class=\"sk-item\"><div class=\"sk-estimator sk-toggleable\"><input class=\"sk-toggleable__control sk-hidden--visually\" id=\"sk-estimator-id-1\" type=\"checkbox\" checked><label for=\"sk-estimator-id-1\" class=\"sk-toggleable__label sk-toggleable__label-arrow\">MinMaxScaler</label><div class=\"sk-toggleable__content\"><pre>MinMaxScaler()</pre></div></div></div></div></div>"
      ],
      "text/plain": [
       "MinMaxScaler()"
      ]
     },
     "execution_count": 27,
     "metadata": {},
     "output_type": "execute_result"
    }
   ],
   "source": [
    "scaler.fit(x_train)"
   ]
  },
  {
   "cell_type": "code",
   "execution_count": 28,
   "id": "b4b9566a",
   "metadata": {},
   "outputs": [],
   "source": [
    "x_train=scaler.transform(x_train)"
   ]
  },
  {
   "cell_type": "code",
   "execution_count": 32,
   "id": "cef26206",
   "metadata": {},
   "outputs": [
    {
     "ename": "ValueError",
     "evalue": "Expected 2D array, got 1D array instead:\narray=[0. 1. 0. 1. 0. 0. 1. 0. 1. 1. 0. 0. 1. 0. 1. 0. 0. 1. 1. 1. 0. 0. 0. 1.\n 0. 0. 0. 1. 1. 1. 0. 0. 1. 0. 0. 0. 0. 0. 0. 0. 0. 1. 1. 0. 1. 1. 0. 0.\n 1. 1. 1. 1. 0. 0. 0. 0. 0. 1. 0. 1. 0. 1. 0. 0. 1. 0. 1. 0. 0. 1. 0. 1.\n 0. 0. 0. 0. 0. 0. 0. 0. 0. 0. 0. 0. 1. 0. 0. 0. 0. 0. 1. 1. 0. 0. 1. 0.\n 0. 1. 0. 0. 0. 0. 1. 1. 1. 0. 1. 0. 0. 0. 0. 1. 1. 0. 1. 1. 0. 1. 0. 0.\n 1. 0. 0. 0. 1. 0. 0. 0. 0. 0. 1. 1. 1. 0. 1. 0. 1. 0. 0. 1. 1. 0. 0. 0.\n 0. 0. 1. 0. 0. 0. 1. 1. 1. 0. 0. 0. 1. 0. 0. 0. 0. 0. 0. 1. 1. 0. 1. 0.\n 0. 1. 1. 1. 0. 0. 0. 0. 0. 0. 0. 1. 1. 1. 1. 0. 1. 1. 1. 0. 0. 0. 0. 0.\n 1. 0. 1. 0. 1. 1. 1. 0. 1. 0. 1. 0. 0. 0. 0. 0. 1. 0. 0. 0. 1. 1. 0. 1.\n 1. 1. 0. 0. 1. 0. 0. 1. 1. 1. 0. 1. 0. 0. 1. 1. 0. 0. 0. 0. 0. 0. 0. 0.\n 0. 0. 1. 1. 0. 0. 0. 0. 1. 0. 0. 0. 1. 1. 0. 0. 0. 1. 1. 0. 0. 1. 0. 0.\n 0. 0. 0. 1. 0. 0. 1. 1. 1. 0. 0. 0. 0. 0. 1. 0. 0. 1. 0. 0. 0. 1. 0. 0.\n 0. 0. 1. 0. 0. 0. 1. 0. 0. 0. 1. 0. 0. 0. 0. 0. 0. 1. 0. 0. 0. 0. 0. 0.\n 1. 0. 0. 0. 1. 0. 0. 0. 0. 0. 1. 0. 0. 0. 1. 1. 1. 0. 0. 1. 0. 0. 0. 0.\n 0. 1. 1. 1. 0. 0. 1. 0. 0. 1. 0. 0. 0. 0. 0. 0. 0. 0. 0. 0. 1. 0. 1. 0.\n 0. 1. 0. 1. 1. 1. 0. 0. 1. 0. 1. 1. 0. 1. 0. 1. 1. 1. 1. 0. 0. 0. 0.].\nReshape your data either using array.reshape(-1, 1) if your data has a single feature or array.reshape(1, -1) if it contains a single sample.",
     "output_type": "error",
     "traceback": [
      "\u001b[1;31m---------------------------------------------------------------------------\u001b[0m",
      "\u001b[1;31mValueError\u001b[0m                                Traceback (most recent call last)",
      "Cell \u001b[1;32mIn[32], line 1\u001b[0m\n\u001b[1;32m----> 1\u001b[0m x_test\u001b[38;5;241m=\u001b[39mscaler\u001b[38;5;241m.\u001b[39mtransform(x_test)\n",
      "File \u001b[1;32mC:\\ProgramData\\anaconda3\\Lib\\site-packages\\sklearn\\utils\\_set_output.py:140\u001b[0m, in \u001b[0;36m_wrap_method_output.<locals>.wrapped\u001b[1;34m(self, X, *args, **kwargs)\u001b[0m\n\u001b[0;32m    138\u001b[0m \u001b[38;5;129m@wraps\u001b[39m(f)\n\u001b[0;32m    139\u001b[0m \u001b[38;5;28;01mdef\u001b[39;00m \u001b[38;5;21mwrapped\u001b[39m(\u001b[38;5;28mself\u001b[39m, X, \u001b[38;5;241m*\u001b[39margs, \u001b[38;5;241m*\u001b[39m\u001b[38;5;241m*\u001b[39mkwargs):\n\u001b[1;32m--> 140\u001b[0m     data_to_wrap \u001b[38;5;241m=\u001b[39m f(\u001b[38;5;28mself\u001b[39m, X, \u001b[38;5;241m*\u001b[39margs, \u001b[38;5;241m*\u001b[39m\u001b[38;5;241m*\u001b[39mkwargs)\n\u001b[0;32m    141\u001b[0m     \u001b[38;5;28;01mif\u001b[39;00m \u001b[38;5;28misinstance\u001b[39m(data_to_wrap, \u001b[38;5;28mtuple\u001b[39m):\n\u001b[0;32m    142\u001b[0m         \u001b[38;5;66;03m# only wrap the first output for cross decomposition\u001b[39;00m\n\u001b[0;32m    143\u001b[0m         return_tuple \u001b[38;5;241m=\u001b[39m (\n\u001b[0;32m    144\u001b[0m             _wrap_data_with_container(method, data_to_wrap[\u001b[38;5;241m0\u001b[39m], X, \u001b[38;5;28mself\u001b[39m),\n\u001b[0;32m    145\u001b[0m             \u001b[38;5;241m*\u001b[39mdata_to_wrap[\u001b[38;5;241m1\u001b[39m:],\n\u001b[0;32m    146\u001b[0m         )\n",
      "File \u001b[1;32mC:\\ProgramData\\anaconda3\\Lib\\site-packages\\sklearn\\preprocessing\\_data.py:514\u001b[0m, in \u001b[0;36mMinMaxScaler.transform\u001b[1;34m(self, X)\u001b[0m\n\u001b[0;32m    500\u001b[0m \u001b[38;5;250m\u001b[39m\u001b[38;5;124;03m\"\"\"Scale features of X according to feature_range.\u001b[39;00m\n\u001b[0;32m    501\u001b[0m \n\u001b[0;32m    502\u001b[0m \u001b[38;5;124;03mParameters\u001b[39;00m\n\u001b[1;32m   (...)\u001b[0m\n\u001b[0;32m    510\u001b[0m \u001b[38;5;124;03m    Transformed data.\u001b[39;00m\n\u001b[0;32m    511\u001b[0m \u001b[38;5;124;03m\"\"\"\u001b[39;00m\n\u001b[0;32m    512\u001b[0m check_is_fitted(\u001b[38;5;28mself\u001b[39m)\n\u001b[1;32m--> 514\u001b[0m X \u001b[38;5;241m=\u001b[39m \u001b[38;5;28mself\u001b[39m\u001b[38;5;241m.\u001b[39m_validate_data(\n\u001b[0;32m    515\u001b[0m     X,\n\u001b[0;32m    516\u001b[0m     copy\u001b[38;5;241m=\u001b[39m\u001b[38;5;28mself\u001b[39m\u001b[38;5;241m.\u001b[39mcopy,\n\u001b[0;32m    517\u001b[0m     dtype\u001b[38;5;241m=\u001b[39mFLOAT_DTYPES,\n\u001b[0;32m    518\u001b[0m     force_all_finite\u001b[38;5;241m=\u001b[39m\u001b[38;5;124m\"\u001b[39m\u001b[38;5;124mallow-nan\u001b[39m\u001b[38;5;124m\"\u001b[39m,\n\u001b[0;32m    519\u001b[0m     reset\u001b[38;5;241m=\u001b[39m\u001b[38;5;28;01mFalse\u001b[39;00m,\n\u001b[0;32m    520\u001b[0m )\n\u001b[0;32m    522\u001b[0m X \u001b[38;5;241m*\u001b[39m\u001b[38;5;241m=\u001b[39m \u001b[38;5;28mself\u001b[39m\u001b[38;5;241m.\u001b[39mscale_\n\u001b[0;32m    523\u001b[0m X \u001b[38;5;241m+\u001b[39m\u001b[38;5;241m=\u001b[39m \u001b[38;5;28mself\u001b[39m\u001b[38;5;241m.\u001b[39mmin_\n",
      "File \u001b[1;32mC:\\ProgramData\\anaconda3\\Lib\\site-packages\\sklearn\\base.py:604\u001b[0m, in \u001b[0;36mBaseEstimator._validate_data\u001b[1;34m(self, X, y, reset, validate_separately, cast_to_ndarray, **check_params)\u001b[0m\n\u001b[0;32m    602\u001b[0m         out \u001b[38;5;241m=\u001b[39m X, y\n\u001b[0;32m    603\u001b[0m \u001b[38;5;28;01melif\u001b[39;00m \u001b[38;5;129;01mnot\u001b[39;00m no_val_X \u001b[38;5;129;01mand\u001b[39;00m no_val_y:\n\u001b[1;32m--> 604\u001b[0m     out \u001b[38;5;241m=\u001b[39m check_array(X, input_name\u001b[38;5;241m=\u001b[39m\u001b[38;5;124m\"\u001b[39m\u001b[38;5;124mX\u001b[39m\u001b[38;5;124m\"\u001b[39m, \u001b[38;5;241m*\u001b[39m\u001b[38;5;241m*\u001b[39mcheck_params)\n\u001b[0;32m    605\u001b[0m \u001b[38;5;28;01melif\u001b[39;00m no_val_X \u001b[38;5;129;01mand\u001b[39;00m \u001b[38;5;129;01mnot\u001b[39;00m no_val_y:\n\u001b[0;32m    606\u001b[0m     out \u001b[38;5;241m=\u001b[39m _check_y(y, \u001b[38;5;241m*\u001b[39m\u001b[38;5;241m*\u001b[39mcheck_params)\n",
      "File \u001b[1;32mC:\\ProgramData\\anaconda3\\Lib\\site-packages\\sklearn\\utils\\validation.py:940\u001b[0m, in \u001b[0;36mcheck_array\u001b[1;34m(array, accept_sparse, accept_large_sparse, dtype, order, copy, force_all_finite, ensure_2d, allow_nd, ensure_min_samples, ensure_min_features, estimator, input_name)\u001b[0m\n\u001b[0;32m    938\u001b[0m     \u001b[38;5;66;03m# If input is 1D raise error\u001b[39;00m\n\u001b[0;32m    939\u001b[0m     \u001b[38;5;28;01mif\u001b[39;00m array\u001b[38;5;241m.\u001b[39mndim \u001b[38;5;241m==\u001b[39m \u001b[38;5;241m1\u001b[39m:\n\u001b[1;32m--> 940\u001b[0m         \u001b[38;5;28;01mraise\u001b[39;00m \u001b[38;5;167;01mValueError\u001b[39;00m(\n\u001b[0;32m    941\u001b[0m             \u001b[38;5;124m\"\u001b[39m\u001b[38;5;124mExpected 2D array, got 1D array instead:\u001b[39m\u001b[38;5;130;01m\\n\u001b[39;00m\u001b[38;5;124marray=\u001b[39m\u001b[38;5;132;01m{}\u001b[39;00m\u001b[38;5;124m.\u001b[39m\u001b[38;5;130;01m\\n\u001b[39;00m\u001b[38;5;124m\"\u001b[39m\n\u001b[0;32m    942\u001b[0m             \u001b[38;5;124m\"\u001b[39m\u001b[38;5;124mReshape your data either using array.reshape(-1, 1) if \u001b[39m\u001b[38;5;124m\"\u001b[39m\n\u001b[0;32m    943\u001b[0m             \u001b[38;5;124m\"\u001b[39m\u001b[38;5;124myour data has a single feature or array.reshape(1, -1) \u001b[39m\u001b[38;5;124m\"\u001b[39m\n\u001b[0;32m    944\u001b[0m             \u001b[38;5;124m\"\u001b[39m\u001b[38;5;124mif it contains a single sample.\u001b[39m\u001b[38;5;124m\"\u001b[39m\u001b[38;5;241m.\u001b[39mformat(array)\n\u001b[0;32m    945\u001b[0m         )\n\u001b[0;32m    947\u001b[0m \u001b[38;5;28;01mif\u001b[39;00m dtype_numeric \u001b[38;5;129;01mand\u001b[39;00m \u001b[38;5;28mhasattr\u001b[39m(array\u001b[38;5;241m.\u001b[39mdtype, \u001b[38;5;124m\"\u001b[39m\u001b[38;5;124mkind\u001b[39m\u001b[38;5;124m\"\u001b[39m) \u001b[38;5;129;01mand\u001b[39;00m array\u001b[38;5;241m.\u001b[39mdtype\u001b[38;5;241m.\u001b[39mkind \u001b[38;5;129;01min\u001b[39;00m \u001b[38;5;124m\"\u001b[39m\u001b[38;5;124mUSV\u001b[39m\u001b[38;5;124m\"\u001b[39m:\n\u001b[0;32m    948\u001b[0m     \u001b[38;5;28;01mraise\u001b[39;00m \u001b[38;5;167;01mValueError\u001b[39;00m(\n\u001b[0;32m    949\u001b[0m         \u001b[38;5;124m\"\u001b[39m\u001b[38;5;124mdtype=\u001b[39m\u001b[38;5;124m'\u001b[39m\u001b[38;5;124mnumeric\u001b[39m\u001b[38;5;124m'\u001b[39m\u001b[38;5;124m is not compatible with arrays of bytes/strings.\u001b[39m\u001b[38;5;124m\"\u001b[39m\n\u001b[0;32m    950\u001b[0m         \u001b[38;5;124m\"\u001b[39m\u001b[38;5;124mConvert your data to numeric values explicitly instead.\u001b[39m\u001b[38;5;124m\"\u001b[39m\n\u001b[0;32m    951\u001b[0m     )\n",
      "\u001b[1;31mValueError\u001b[0m: Expected 2D array, got 1D array instead:\narray=[0. 1. 0. 1. 0. 0. 1. 0. 1. 1. 0. 0. 1. 0. 1. 0. 0. 1. 1. 1. 0. 0. 0. 1.\n 0. 0. 0. 1. 1. 1. 0. 0. 1. 0. 0. 0. 0. 0. 0. 0. 0. 1. 1. 0. 1. 1. 0. 0.\n 1. 1. 1. 1. 0. 0. 0. 0. 0. 1. 0. 1. 0. 1. 0. 0. 1. 0. 1. 0. 0. 1. 0. 1.\n 0. 0. 0. 0. 0. 0. 0. 0. 0. 0. 0. 0. 1. 0. 0. 0. 0. 0. 1. 1. 0. 0. 1. 0.\n 0. 1. 0. 0. 0. 0. 1. 1. 1. 0. 1. 0. 0. 0. 0. 1. 1. 0. 1. 1. 0. 1. 0. 0.\n 1. 0. 0. 0. 1. 0. 0. 0. 0. 0. 1. 1. 1. 0. 1. 0. 1. 0. 0. 1. 1. 0. 0. 0.\n 0. 0. 1. 0. 0. 0. 1. 1. 1. 0. 0. 0. 1. 0. 0. 0. 0. 0. 0. 1. 1. 0. 1. 0.\n 0. 1. 1. 1. 0. 0. 0. 0. 0. 0. 0. 1. 1. 1. 1. 0. 1. 1. 1. 0. 0. 0. 0. 0.\n 1. 0. 1. 0. 1. 1. 1. 0. 1. 0. 1. 0. 0. 0. 0. 0. 1. 0. 0. 0. 1. 1. 0. 1.\n 1. 1. 0. 0. 1. 0. 0. 1. 1. 1. 0. 1. 0. 0. 1. 1. 0. 0. 0. 0. 0. 0. 0. 0.\n 0. 0. 1. 1. 0. 0. 0. 0. 1. 0. 0. 0. 1. 1. 0. 0. 0. 1. 1. 0. 0. 1. 0. 0.\n 0. 0. 0. 1. 0. 0. 1. 1. 1. 0. 0. 0. 0. 0. 1. 0. 0. 1. 0. 0. 0. 1. 0. 0.\n 0. 0. 1. 0. 0. 0. 1. 0. 0. 0. 1. 0. 0. 0. 0. 0. 0. 1. 0. 0. 0. 0. 0. 0.\n 1. 0. 0. 0. 1. 0. 0. 0. 0. 0. 1. 0. 0. 0. 1. 1. 1. 0. 0. 1. 0. 0. 0. 0.\n 0. 1. 1. 1. 0. 0. 1. 0. 0. 1. 0. 0. 0. 0. 0. 0. 0. 0. 0. 0. 1. 0. 1. 0.\n 0. 1. 0. 1. 1. 1. 0. 0. 1. 0. 1. 1. 0. 1. 0. 1. 1. 1. 1. 0. 0. 0. 0.].\nReshape your data either using array.reshape(-1, 1) if your data has a single feature or array.reshape(1, -1) if it contains a single sample."
     ]
    }
   ],
   "source": [
    "x_test=scaler.transform(x_test)"
   ]
  },
  {
   "cell_type": "code",
   "execution_count": 47,
   "id": "c4764e39",
   "metadata": {},
   "outputs": [
    {
     "ename": "ModuleNotFoundError",
     "evalue": "No module named 'tensorflow'",
     "output_type": "error",
     "traceback": [
      "\u001b[1;31m---------------------------------------------------------------------------\u001b[0m",
      "\u001b[1;31mModuleNotFoundError\u001b[0m                       Traceback (most recent call last)",
      "Cell \u001b[1;32mIn[47], line 1\u001b[0m\n\u001b[1;32m----> 1\u001b[0m \u001b[38;5;28;01mimport\u001b[39;00m \u001b[38;5;21;01mtensorflow\u001b[39;00m \u001b[38;5;28;01mas\u001b[39;00m \u001b[38;5;21;01mtf\u001b[39;00m\n\u001b[0;32m      2\u001b[0m \u001b[38;5;28;01mfrom\u001b[39;00m \u001b[38;5;21;01mtensorflow\u001b[39;00m\u001b[38;5;21;01m.\u001b[39;00m\u001b[38;5;21;01mkeras\u001b[39;00m\u001b[38;5;21;01m.\u001b[39;00m\u001b[38;5;21;01mmodels\u001b[39;00m \u001b[38;5;28;01mimport\u001b[39;00m Sequential\n\u001b[0;32m      3\u001b[0m \u001b[38;5;28;01mfrom\u001b[39;00m \u001b[38;5;21;01mtensorflow\u001b[39;00m\u001b[38;5;21;01m.\u001b[39;00m\u001b[38;5;21;01mkeras\u001b[39;00m\u001b[38;5;21;01m.\u001b[39;00m\u001b[38;5;21;01mlayers\u001b[39;00m \u001b[38;5;28;01mimport\u001b[39;00m Dense, Activation,Dropout\n",
      "\u001b[1;31mModuleNotFoundError\u001b[0m: No module named 'tensorflow'"
     ]
    }
   ],
   "source": [
    "import tensorflow as tf\n",
    "from tensorflow.keras.models import Sequential\n",
    "from tensorflow.keras.layers import Dense, Activation,Dropout\n",
    "from tensorflow.keras.callbacks import EarlyStopping"
   ]
  },
  {
   "cell_type": "code",
   "execution_count": 36,
   "id": "e987a5e0",
   "metadata": {},
   "outputs": [
    {
     "data": {
      "text/plain": [
       "(383, 30)"
      ]
     },
     "execution_count": 36,
     "metadata": {},
     "output_type": "execute_result"
    }
   ],
   "source": [
    "x_train.shape"
   ]
  },
  {
   "cell_type": "code",
   "execution_count": 37,
   "id": "2d0013d9",
   "metadata": {},
   "outputs": [
    {
     "ename": "NameError",
     "evalue": "name 'Sequential' is not defined",
     "output_type": "error",
     "traceback": [
      "\u001b[1;31m---------------------------------------------------------------------------\u001b[0m",
      "\u001b[1;31mNameError\u001b[0m                                 Traceback (most recent call last)",
      "Cell \u001b[1;32mIn[37], line 1\u001b[0m\n\u001b[1;32m----> 1\u001b[0m model\u001b[38;5;241m=\u001b[39mSequential()\n\u001b[0;32m      4\u001b[0m model\u001b[38;5;241m.\u001b[39madd(Dense(units\u001b[38;5;241m=\u001b[39m\u001b[38;5;241m30\u001b[39m,activation\u001b[38;5;241m=\u001b[39m\u001b[38;5;124m\"\u001b[39m\u001b[38;5;124mrelu\u001b[39m\u001b[38;5;124m\"\u001b[39m))\n\u001b[0;32m      5\u001b[0m model\u001b[38;5;241m.\u001b[39madd(Dense(units\u001b[38;5;241m=\u001b[39m\u001b[38;5;241m15\u001b[39m,activation\u001b[38;5;241m=\u001b[39m\u001b[38;5;124m\"\u001b[39m\u001b[38;5;124mrelu\u001b[39m\u001b[38;5;124m\"\u001b[39m))\n",
      "\u001b[1;31mNameError\u001b[0m: name 'Sequential' is not defined"
     ]
    }
   ],
   "source": [
    "model=Sequential()\n",
    "\n",
    "\n",
    "model.add(Dense(units=30,activation=\"relu\"))\n",
    "model.add(Dense(units=15,activation=\"relu\"))\n",
    "model.add(Dense(units=15,activation=\"relu\"))\n",
    "model.add(Dense(units=1,activation=\"sigmoid\"))\n",
    "\n",
    "model.compile(loss=\"binary_crossentropy\",optimizer=\"adam\")"
   ]
  },
  {
   "cell_type": "code",
   "execution_count": 38,
   "id": "58c75c8b",
   "metadata": {},
   "outputs": [
    {
     "ename": "NameError",
     "evalue": "name 'model' is not defined",
     "output_type": "error",
     "traceback": [
      "\u001b[1;31m---------------------------------------------------------------------------\u001b[0m",
      "\u001b[1;31mNameError\u001b[0m                                 Traceback (most recent call last)",
      "Cell \u001b[1;32mIn[38], line 1\u001b[0m\n\u001b[1;32m----> 1\u001b[0m model\u001b[38;5;241m.\u001b[39mfit(x\u001b[38;5;241m=\u001b[39mx_train,y\u001b[38;5;241m=\u001b[39my_train,epochs\u001b[38;5;241m=\u001b[39m\u001b[38;5;241m700\u001b[39m,validation_data\u001b[38;5;241m=\u001b[39m(x_test,y_test),verbose\u001b[38;5;241m=\u001b[39m\u001b[38;5;241m1\u001b[39m)\n",
      "\u001b[1;31mNameError\u001b[0m: name 'model' is not defined"
     ]
    }
   ],
   "source": [
    "model.fit(x=x_train,y=y_train,epochs=700,validation_data=(x_test,y_test),verbose=1)"
   ]
  },
  {
   "cell_type": "code",
   "execution_count": 39,
   "id": "73c0c4bc",
   "metadata": {},
   "outputs": [
    {
     "ename": "NameError",
     "evalue": "name 'model' is not defined",
     "output_type": "error",
     "traceback": [
      "\u001b[1;31m---------------------------------------------------------------------------\u001b[0m",
      "\u001b[1;31mNameError\u001b[0m                                 Traceback (most recent call last)",
      "Cell \u001b[1;32mIn[39], line 1\u001b[0m\n\u001b[1;32m----> 1\u001b[0m model\u001b[38;5;241m.\u001b[39mhistory\u001b[38;5;241m.\u001b[39mhistory\n",
      "\u001b[1;31mNameError\u001b[0m: name 'model' is not defined"
     ]
    }
   ],
   "source": [
    "model.history.history"
   ]
  },
  {
   "cell_type": "code",
   "execution_count": 42,
   "id": "161bea8b",
   "metadata": {},
   "outputs": [
    {
     "ename": "NameError",
     "evalue": "name 'model' is not defined",
     "output_type": "error",
     "traceback": [
      "\u001b[1;31m---------------------------------------------------------------------------\u001b[0m",
      "\u001b[1;31mNameError\u001b[0m                                 Traceback (most recent call last)",
      "Cell \u001b[1;32mIn[42], line 1\u001b[0m\n\u001b[1;32m----> 1\u001b[0m modelKaybi\u001b[38;5;241m=\u001b[39mpd\u001b[38;5;241m.\u001b[39mDataFrame(model\u001b[38;5;241m.\u001b[39mhistory\u001b[38;5;241m.\u001b[39mhistory)\n",
      "\u001b[1;31mNameError\u001b[0m: name 'model' is not defined"
     ]
    }
   ],
   "source": [
    "modelKaybi=pd.DataFrame(model.history.history)"
   ]
  },
  {
   "cell_type": "code",
   "execution_count": 43,
   "id": "b2a4952c",
   "metadata": {},
   "outputs": [
    {
     "ename": "NameError",
     "evalue": "name 'modelKaybi' is not defined",
     "output_type": "error",
     "traceback": [
      "\u001b[1;31m---------------------------------------------------------------------------\u001b[0m",
      "\u001b[1;31mNameError\u001b[0m                                 Traceback (most recent call last)",
      "Cell \u001b[1;32mIn[43], line 1\u001b[0m\n\u001b[1;32m----> 1\u001b[0m modelKaybi\u001b[38;5;241m.\u001b[39mplot()\n",
      "\u001b[1;31mNameError\u001b[0m: name 'modelKaybi' is not defined"
     ]
    }
   ],
   "source": [
    "modelKaybi.plot()"
   ]
  },
  {
   "cell_type": "code",
   "execution_count": 44,
   "id": "bfb39b60",
   "metadata": {},
   "outputs": [
    {
     "ename": "NameError",
     "evalue": "name 'Sequential' is not defined",
     "output_type": "error",
     "traceback": [
      "\u001b[1;31m---------------------------------------------------------------------------\u001b[0m",
      "\u001b[1;31mNameError\u001b[0m                                 Traceback (most recent call last)",
      "Cell \u001b[1;32mIn[44], line 1\u001b[0m\n\u001b[1;32m----> 1\u001b[0m model\u001b[38;5;241m=\u001b[39mSequential()\n\u001b[0;32m      4\u001b[0m model\u001b[38;5;241m.\u001b[39madd(Dense(units\u001b[38;5;241m=\u001b[39m\u001b[38;5;241m30\u001b[39m,activation\u001b[38;5;241m=\u001b[39m\u001b[38;5;124m\"\u001b[39m\u001b[38;5;124mrelu\u001b[39m\u001b[38;5;124m\"\u001b[39m))\n\u001b[0;32m      5\u001b[0m model\u001b[38;5;241m.\u001b[39madd(Dense(units\u001b[38;5;241m=\u001b[39m\u001b[38;5;241m15\u001b[39m,activation\u001b[38;5;241m=\u001b[39m\u001b[38;5;124m\"\u001b[39m\u001b[38;5;124mrelu\u001b[39m\u001b[38;5;124m\"\u001b[39m))\n",
      "\u001b[1;31mNameError\u001b[0m: name 'Sequential' is not defined"
     ]
    }
   ],
   "source": [
    "model=Sequential()\n",
    "\n",
    "\n",
    "model.add(Dense(units=30,activation=\"relu\"))\n",
    "model.add(Dense(units=15,activation=\"relu\"))\n",
    "model.add(Dense(units=15,activation=\"relu\"))\n",
    "model.add(Dense(units=1,activation=\"sigmoid\"))\n",
    "\n",
    "model.compile(loss=\"binary_crossentropy\",optimizer=\"adam\")"
   ]
  },
  {
   "cell_type": "code",
   "execution_count": 46,
   "id": "f80557e5",
   "metadata": {},
   "outputs": [
    {
     "ename": "NameError",
     "evalue": "name 'EarlyStopping' is not defined",
     "output_type": "error",
     "traceback": [
      "\u001b[1;31m---------------------------------------------------------------------------\u001b[0m",
      "\u001b[1;31mNameError\u001b[0m                                 Traceback (most recent call last)",
      "Cell \u001b[1;32mIn[46], line 1\u001b[0m\n\u001b[1;32m----> 1\u001b[0m earlyStopping\u001b[38;5;241m=\u001b[39mEarlyStopping(monitor\u001b[38;5;241m=\u001b[39m\u001b[38;5;124m\"\u001b[39m\u001b[38;5;124mval_loss\u001b[39m\u001b[38;5;124m\"\u001b[39m,mode\u001b[38;5;241m=\u001b[39m\u001b[38;5;124m\"\u001b[39m\u001b[38;5;124mmin\u001b[39m\u001b[38;5;124m\"\u001b[39m,verbose\u001b[38;5;241m=\u001b[39m\u001b[38;5;241m1\u001b[39m,patience\u001b[38;5;241m=\u001b[39m\u001b[38;5;241m25\u001b[39m)\n",
      "\u001b[1;31mNameError\u001b[0m: name 'EarlyStopping' is not defined"
     ]
    }
   ],
   "source": [
    "earlyStopping=EarlyStopping(monitor=\"val_loss\",mode=\"min\",verbose=1,patience=25)"
   ]
  },
  {
   "cell_type": "code",
   "execution_count": 48,
   "id": "24b9a72c",
   "metadata": {},
   "outputs": [
    {
     "ename": "NameError",
     "evalue": "name 'model' is not defined",
     "output_type": "error",
     "traceback": [
      "\u001b[1;31m---------------------------------------------------------------------------\u001b[0m",
      "\u001b[1;31mNameError\u001b[0m                                 Traceback (most recent call last)",
      "Cell \u001b[1;32mIn[48], line 1\u001b[0m\n\u001b[1;32m----> 1\u001b[0m model\u001b[38;5;241m.\u001b[39mfit(x\u001b[38;5;241m=\u001b[39mx_train,y\u001b[38;5;241m=\u001b[39my_train,epochs\u001b[38;5;241m=\u001b[39m\u001b[38;5;241m700\u001b[39m,validation_data\u001b[38;5;241m=\u001b[39m(x_test,y_test),verbose\u001b[38;5;241m=\u001b[39m\u001b[38;5;241m1\u001b[39m,callbacks\u001b[38;5;241m=\u001b[39m[earlyStopping])\n",
      "\u001b[1;31mNameError\u001b[0m: name 'model' is not defined"
     ]
    }
   ],
   "source": [
    "model.fit(x=x_train,y=y_train,epochs=700,validation_data=(x_test,y_test),verbose=1,callbacks=[earlyStopping])"
   ]
  },
  {
   "cell_type": "code",
   "execution_count": 49,
   "id": "9ffc66ba",
   "metadata": {},
   "outputs": [
    {
     "ename": "NameError",
     "evalue": "name 'model' is not defined",
     "output_type": "error",
     "traceback": [
      "\u001b[1;31m---------------------------------------------------------------------------\u001b[0m",
      "\u001b[1;31mNameError\u001b[0m                                 Traceback (most recent call last)",
      "Cell \u001b[1;32mIn[49], line 1\u001b[0m\n\u001b[1;32m----> 1\u001b[0m modelKaybi\u001b[38;5;241m=\u001b[39mpd\u001b[38;5;241m.\u001b[39mDataFrame(model\u001b[38;5;241m.\u001b[39mhistory\u001b[38;5;241m.\u001b[39mhistory)\n",
      "\u001b[1;31mNameError\u001b[0m: name 'model' is not defined"
     ]
    }
   ],
   "source": [
    "modelKaybi=pd.DataFrame(model.history.history)"
   ]
  },
  {
   "cell_type": "code",
   "execution_count": 50,
   "id": "9efb81eb",
   "metadata": {},
   "outputs": [
    {
     "ename": "NameError",
     "evalue": "name 'modelKaybi' is not defined",
     "output_type": "error",
     "traceback": [
      "\u001b[1;31m---------------------------------------------------------------------------\u001b[0m",
      "\u001b[1;31mNameError\u001b[0m                                 Traceback (most recent call last)",
      "Cell \u001b[1;32mIn[50], line 1\u001b[0m\n\u001b[1;32m----> 1\u001b[0m modelKaybi\u001b[38;5;241m.\u001b[39mplot()\n",
      "\u001b[1;31mNameError\u001b[0m: name 'modelKaybi' is not defined"
     ]
    }
   ],
   "source": [
    "modelKaybi.plot()"
   ]
  },
  {
   "cell_type": "code",
   "execution_count": 51,
   "id": "8c8d802e",
   "metadata": {},
   "outputs": [
    {
     "ename": "NameError",
     "evalue": "name 'Sequential' is not defined",
     "output_type": "error",
     "traceback": [
      "\u001b[1;31m---------------------------------------------------------------------------\u001b[0m",
      "\u001b[1;31mNameError\u001b[0m                                 Traceback (most recent call last)",
      "Cell \u001b[1;32mIn[51], line 1\u001b[0m\n\u001b[1;32m----> 1\u001b[0m model\u001b[38;5;241m=\u001b[39mSequential()\n\u001b[0;32m      3\u001b[0m model\u001b[38;5;241m.\u001b[39madd(Dense(units\u001b[38;5;241m=\u001b[39m\u001b[38;5;241m30\u001b[39m,activation\u001b[38;5;241m=\u001b[39m\u001b[38;5;124m\"\u001b[39m\u001b[38;5;124mrelu\u001b[39m\u001b[38;5;124m\"\u001b[39m))\n\u001b[0;32m      4\u001b[0m model\u001b[38;5;241m.\u001b[39madd(Dropout(\u001b[38;5;241m0.6\u001b[39m))\n",
      "\u001b[1;31mNameError\u001b[0m: name 'Sequential' is not defined"
     ]
    }
   ],
   "source": [
    "model=Sequential()\n",
    "\n",
    "model.add(Dense(units=30,activation=\"relu\"))\n",
    "model.add(Dropout(0.6))\n",
    "model.add(Dense(units=15,activation=\"relu\"))\n",
    "model.add(Dropout(0.6))\n",
    "model.add(Dense(units=15,activation=\"relu\"))\n",
    "model.add(Dropout(0.6))\n",
    "model.add(Dense(units=1,activation=\"sigmoid\"))\n",
    "model.add(Dropout(0.6))\n",
    "\n",
    "model.compile(loss=\"binary_crossentropy\",optimizer=\"adam\")"
   ]
  },
  {
   "cell_type": "code",
   "execution_count": 52,
   "id": "718bf208",
   "metadata": {},
   "outputs": [
    {
     "ename": "NameError",
     "evalue": "name 'model' is not defined",
     "output_type": "error",
     "traceback": [
      "\u001b[1;31m---------------------------------------------------------------------------\u001b[0m",
      "\u001b[1;31mNameError\u001b[0m                                 Traceback (most recent call last)",
      "Cell \u001b[1;32mIn[52], line 1\u001b[0m\n\u001b[1;32m----> 1\u001b[0m model\u001b[38;5;241m.\u001b[39mfit(x\u001b[38;5;241m=\u001b[39mx_train,y\u001b[38;5;241m=\u001b[39my_train,epochs\u001b[38;5;241m=\u001b[39m\u001b[38;5;241m700\u001b[39m,validation_data\u001b[38;5;241m=\u001b[39m(x_test,y_test),verbose\u001b[38;5;241m=\u001b[39m\u001b[38;5;241m1\u001b[39m,callbacks\u001b[38;5;241m=\u001b[39m[earlyStopping])\n",
      "\u001b[1;31mNameError\u001b[0m: name 'model' is not defined"
     ]
    }
   ],
   "source": [
    "model.fit(x=x_train,y=y_train,epochs=700,validation_data=(x_test,y_test),verbose=1,callbacks=[earlyStopping])"
   ]
  },
  {
   "cell_type": "code",
   "execution_count": 55,
   "id": "5c70ac31",
   "metadata": {},
   "outputs": [
    {
     "ename": "NameError",
     "evalue": "name 'model' is not defined",
     "output_type": "error",
     "traceback": [
      "\u001b[1;31m---------------------------------------------------------------------------\u001b[0m",
      "\u001b[1;31mNameError\u001b[0m                                 Traceback (most recent call last)",
      "Cell \u001b[1;32mIn[55], line 1\u001b[0m\n\u001b[1;32m----> 1\u001b[0m kayipDf\u001b[38;5;241m=\u001b[39mpd\u001b[38;5;241m.\u001b[39mDataFrame(model\u001b[38;5;241m.\u001b[39mhistory\u001b[38;5;241m.\u001b[39mhistory)\n",
      "\u001b[1;31mNameError\u001b[0m: name 'model' is not defined"
     ]
    }
   ],
   "source": [
    "kayipDf=pd.DataFrame(model.history.history)"
   ]
  },
  {
   "cell_type": "code",
   "execution_count": 54,
   "id": "f4c9efe6",
   "metadata": {},
   "outputs": [
    {
     "ename": "NameError",
     "evalue": "name 'kayifDf' is not defined",
     "output_type": "error",
     "traceback": [
      "\u001b[1;31m---------------------------------------------------------------------------\u001b[0m",
      "\u001b[1;31mNameError\u001b[0m                                 Traceback (most recent call last)",
      "Cell \u001b[1;32mIn[54], line 1\u001b[0m\n\u001b[1;32m----> 1\u001b[0m kayifDf\n",
      "\u001b[1;31mNameError\u001b[0m: name 'kayifDf' is not defined"
     ]
    }
   ],
   "source": [
    "kayifDf"
   ]
  },
  {
   "cell_type": "code",
   "execution_count": 56,
   "id": "eaef5e46",
   "metadata": {},
   "outputs": [
    {
     "ename": "NameError",
     "evalue": "name 'model' is not defined",
     "output_type": "error",
     "traceback": [
      "\u001b[1;31m---------------------------------------------------------------------------\u001b[0m",
      "\u001b[1;31mNameError\u001b[0m                                 Traceback (most recent call last)",
      "Cell \u001b[1;32mIn[56], line 1\u001b[0m\n\u001b[1;32m----> 1\u001b[0m tahminlerimiz\u001b[38;5;241m=\u001b[39mmodel\u001b[38;5;241m.\u001b[39mpredict_classes(x_test)\n",
      "\u001b[1;31mNameError\u001b[0m: name 'model' is not defined"
     ]
    }
   ],
   "source": [
    "tahminlerimiz=model.predict_classes(x_test)"
   ]
  },
  {
   "cell_type": "code",
   "execution_count": 58,
   "id": "c5827c3a",
   "metadata": {},
   "outputs": [
    {
     "ename": "NameError",
     "evalue": "name 'tahminlerimiz' is not defined",
     "output_type": "error",
     "traceback": [
      "\u001b[1;31m---------------------------------------------------------------------------\u001b[0m",
      "\u001b[1;31mNameError\u001b[0m                                 Traceback (most recent call last)",
      "Cell \u001b[1;32mIn[58], line 1\u001b[0m\n\u001b[1;32m----> 1\u001b[0m tahminlerimiz\n",
      "\u001b[1;31mNameError\u001b[0m: name 'tahminlerimiz' is not defined"
     ]
    }
   ],
   "source": [
    "tahminlerimiz"
   ]
  },
  {
   "cell_type": "code",
   "execution_count": 60,
   "id": "554227d6",
   "metadata": {},
   "outputs": [],
   "source": [
    "from sklearn.metrics import classification_report,confusion_matrix"
   ]
  },
  {
   "cell_type": "code",
   "execution_count": null,
   "id": "0aa0e9d5",
   "metadata": {},
   "outputs": [],
   "source": []
  }
 ],
 "metadata": {
  "kernelspec": {
   "display_name": "Python 3 (ipykernel)",
   "language": "python",
   "name": "python3"
  },
  "language_info": {
   "codemirror_mode": {
    "name": "ipython",
    "version": 3
   },
   "file_extension": ".py",
   "mimetype": "text/x-python",
   "name": "python",
   "nbconvert_exporter": "python",
   "pygments_lexer": "ipython3",
   "version": "3.11.5"
  }
 },
 "nbformat": 4,
 "nbformat_minor": 5
}
