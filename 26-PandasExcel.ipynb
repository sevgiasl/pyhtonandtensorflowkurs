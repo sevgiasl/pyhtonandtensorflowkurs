{
 "cells": [
  {
   "cell_type": "code",
   "execution_count": 2,
   "id": "c129a89e",
   "metadata": {},
   "outputs": [],
   "source": [
    "import pandas as pd"
   ]
  },
  {
   "cell_type": "code",
   "execution_count": 4,
   "id": "cf84223d",
   "metadata": {},
   "outputs": [],
   "source": [
    "dataFrame=pd.read_excel(\"maas.xlsx\")"
   ]
  },
  {
   "cell_type": "code",
   "execution_count": 5,
   "id": "17a6ead0",
   "metadata": {},
   "outputs": [
    {
     "data": {
      "text/html": [
       "<div>\n",
       "<style scoped>\n",
       "    .dataframe tbody tr th:only-of-type {\n",
       "        vertical-align: middle;\n",
       "    }\n",
       "\n",
       "    .dataframe tbody tr th {\n",
       "        vertical-align: top;\n",
       "    }\n",
       "\n",
       "    .dataframe thead th {\n",
       "        text-align: right;\n",
       "    }\n",
       "</style>\n",
       "<table border=\"1\" class=\"dataframe\">\n",
       "  <thead>\n",
       "    <tr style=\"text-align: right;\">\n",
       "      <th></th>\n",
       "      <th>Unnamed: 0</th>\n",
       "      <th>Maas</th>\n",
       "      <th>Yas</th>\n",
       "      <th>Departman</th>\n",
       "    </tr>\n",
       "  </thead>\n",
       "  <tbody>\n",
       "    <tr>\n",
       "      <th>0</th>\n",
       "      <td>Atıl</td>\n",
       "      <td>100</td>\n",
       "      <td>40.0</td>\n",
       "      <td>Yazılım</td>\n",
       "    </tr>\n",
       "    <tr>\n",
       "      <th>1</th>\n",
       "      <td>Zeynep</td>\n",
       "      <td>150</td>\n",
       "      <td>50.0</td>\n",
       "      <td>Satış</td>\n",
       "    </tr>\n",
       "    <tr>\n",
       "      <th>2</th>\n",
       "      <td>Mehmet</td>\n",
       "      <td>200</td>\n",
       "      <td>30.0</td>\n",
       "      <td>NaN</td>\n",
       "    </tr>\n",
       "    <tr>\n",
       "      <th>3</th>\n",
       "      <td>Ahmet</td>\n",
       "      <td>50</td>\n",
       "      <td>10.0</td>\n",
       "      <td>Pazarlama</td>\n",
       "    </tr>\n",
       "    <tr>\n",
       "      <th>4</th>\n",
       "      <td>Atlas</td>\n",
       "      <td>150</td>\n",
       "      <td>NaN</td>\n",
       "      <td>Finans</td>\n",
       "    </tr>\n",
       "    <tr>\n",
       "      <th>5</th>\n",
       "      <td>Fatma</td>\n",
       "      <td>200</td>\n",
       "      <td>25.0</td>\n",
       "      <td>Hukuk</td>\n",
       "    </tr>\n",
       "  </tbody>\n",
       "</table>\n",
       "</div>"
      ],
      "text/plain": [
       "  Unnamed: 0  Maas   Yas  Departman\n",
       "0       Atıl   100  40.0    Yazılım\n",
       "1     Zeynep   150  50.0      Satış\n",
       "2     Mehmet   200  30.0        NaN\n",
       "3      Ahmet    50  10.0  Pazarlama\n",
       "4      Atlas   150   NaN     Finans\n",
       "5      Fatma   200  25.0      Hukuk"
      ]
     },
     "execution_count": 5,
     "metadata": {},
     "output_type": "execute_result"
    }
   ],
   "source": [
    "dataFrame"
   ]
  },
  {
   "cell_type": "code",
   "execution_count": 8,
   "id": "4841d709",
   "metadata": {},
   "outputs": [],
   "source": [
    "doluDegerlerDataFrame=dataFrame.dropna()"
   ]
  },
  {
   "cell_type": "code",
   "execution_count": 9,
   "id": "19eaf59a",
   "metadata": {},
   "outputs": [],
   "source": [
    "doluDegerlerDataFrame.to_excel(\"yenimaas.xlsx\")"
   ]
  },
  {
   "cell_type": "code",
   "execution_count": null,
   "id": "2b1196d6",
   "metadata": {},
   "outputs": [],
   "source": [
    "## read_csv\n",
    "## to_csv"
   ]
  }
 ],
 "metadata": {
  "kernelspec": {
   "display_name": "Python 3 (ipykernel)",
   "language": "python",
   "name": "python3"
  },
  "language_info": {
   "codemirror_mode": {
    "name": "ipython",
    "version": 3
   },
   "file_extension": ".py",
   "mimetype": "text/x-python",
   "name": "python",
   "nbconvert_exporter": "python",
   "pygments_lexer": "ipython3",
   "version": "3.11.5"
  }
 },
 "nbformat": 4,
 "nbformat_minor": 5
}
