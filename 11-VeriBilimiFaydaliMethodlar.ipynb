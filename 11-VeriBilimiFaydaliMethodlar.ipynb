{
 "cells": [
  {
   "cell_type": "code",
   "execution_count": null,
   "id": "17ed67e6",
   "metadata": {},
   "outputs": [],
   "source": [
    "benimListem=[0,1,2,3,4,5,6]"
   ]
  },
  {
   "cell_type": "code",
   "execution_count": 2,
   "id": "025242ed",
   "metadata": {},
   "outputs": [
    {
     "name": "stdout",
     "output_type": "stream",
     "text": [
      "0\n",
      "1\n",
      "2\n",
      "3\n",
      "4\n",
      "5\n",
      "6\n"
     ]
    }
   ],
   "source": [
    "for numara in benimListem:\n",
    "    print(numara)"
   ]
  },
  {
   "cell_type": "markdown",
   "id": "4180c98f",
   "metadata": {},
   "source": [
    "# range"
   ]
  },
  {
   "cell_type": "code",
   "execution_count": 3,
   "id": "7e5f6949",
   "metadata": {},
   "outputs": [
    {
     "data": {
      "text/plain": [
       "range(0, 15)"
      ]
     },
     "execution_count": 3,
     "metadata": {},
     "output_type": "execute_result"
    }
   ],
   "source": [
    "range(15)"
   ]
  },
  {
   "cell_type": "code",
   "execution_count": 4,
   "id": "780f90ef",
   "metadata": {},
   "outputs": [
    {
     "data": {
      "text/plain": [
       "[0, 1, 2, 3, 4, 5, 6, 7, 8, 9, 10, 11, 12, 13, 14]"
      ]
     },
     "execution_count": 4,
     "metadata": {},
     "output_type": "execute_result"
    }
   ],
   "source": [
    "list(range(15))"
   ]
  },
  {
   "cell_type": "code",
   "execution_count": 7,
   "id": "752f64b0",
   "metadata": {},
   "outputs": [
    {
     "name": "stdout",
     "output_type": "stream",
     "text": [
      "0\n",
      "5\n",
      "10\n",
      "15\n",
      "20\n",
      "25\n",
      "30\n",
      "35\n",
      "40\n",
      "45\n",
      "50\n",
      "55\n",
      "60\n",
      "65\n",
      "70\n"
     ]
    }
   ],
   "source": [
    "for numara in list(range(15)):\n",
    "    print(numara*5)"
   ]
  },
  {
   "cell_type": "code",
   "execution_count": 9,
   "id": "164b8803",
   "metadata": {},
   "outputs": [
    {
     "data": {
      "text/plain": [
       "[5, 9, 13, 17, 21]"
      ]
     },
     "execution_count": 9,
     "metadata": {},
     "output_type": "execute_result"
    }
   ],
   "source": [
    "list(range(5,22,4))"
   ]
  },
  {
   "cell_type": "markdown",
   "id": "0ef49b70",
   "metadata": {},
   "source": [
    "# enumerate"
   ]
  },
  {
   "cell_type": "code",
   "execution_count": 14,
   "id": "83adcabc",
   "metadata": {},
   "outputs": [
    {
     "name": "stdout",
     "output_type": "stream",
     "text": [
      "güncel numara: 5 güncel index:0\n",
      "güncel numara: 6 güncel index:1\n",
      "güncel numara: 7 güncel index:2\n",
      "güncel numara: 8 güncel index:3\n",
      "güncel numara: 9 güncel index:4\n",
      "güncel numara: 10 güncel index:5\n",
      "güncel numara: 11 güncel index:6\n",
      "güncel numara: 12 güncel index:7\n",
      "güncel numara: 13 güncel index:8\n",
      "güncel numara: 14 güncel index:9\n"
     ]
    }
   ],
   "source": [
    "index=0\n",
    "for numara in list(range(5,15)):\n",
    "    print(f\"güncel numara: {numara} güncel index:{index}\")\n",
    "    index=index+1"
   ]
  },
  {
   "cell_type": "code",
   "execution_count": null,
   "id": "eae29101",
   "metadata": {},
   "outputs": [],
   "source": [
    "# for eleman in enumerate(list(range(5,15))):\n",
    "    print(eleman )\n",
    "    #tuple"
   ]
  },
  {
   "cell_type": "code",
   "execution_count": 18,
   "id": "7611c71e",
   "metadata": {},
   "outputs": [
    {
     "name": "stdout",
     "output_type": "stream",
     "text": [
      "5\n",
      "6\n",
      "7\n",
      "8\n",
      "9\n",
      "10\n",
      "11\n",
      "12\n",
      "13\n",
      "14\n"
     ]
    }
   ],
   "source": [
    "for (index,numara) in enumerate(list(range(5,15))):\n",
    "    print(numara )"
   ]
  },
  {
   "cell_type": "markdown",
   "id": "99d17a2e",
   "metadata": {},
   "source": [
    "# random"
   ]
  },
  {
   "cell_type": "code",
   "execution_count": 1,
   "id": "ed7fe7a5",
   "metadata": {},
   "outputs": [],
   "source": [
    "from random import randint"
   ]
  },
  {
   "cell_type": "code",
   "execution_count": 2,
   "id": "0bb95102",
   "metadata": {},
   "outputs": [
    {
     "data": {
      "text/plain": [
       "30"
      ]
     },
     "execution_count": 2,
     "metadata": {},
     "output_type": "execute_result"
    }
   ],
   "source": [
    "randint(0,100)"
   ]
  },
  {
   "cell_type": "code",
   "execution_count": 3,
   "id": "ce087d53",
   "metadata": {},
   "outputs": [
    {
     "data": {
      "text/plain": [
       "6"
      ]
     },
     "execution_count": 3,
     "metadata": {},
     "output_type": "execute_result"
    }
   ],
   "source": [
    "randint(0,100)"
   ]
  },
  {
   "cell_type": "code",
   "execution_count": 4,
   "id": "4909f09d",
   "metadata": {},
   "outputs": [],
   "source": [
    "yeniListe=list(range(0,10))"
   ]
  },
  {
   "cell_type": "code",
   "execution_count": 5,
   "id": "6fb33126",
   "metadata": {},
   "outputs": [
    {
     "data": {
      "text/plain": [
       "[0, 1, 2, 3, 4, 5, 6, 7, 8, 9]"
      ]
     },
     "execution_count": 5,
     "metadata": {},
     "output_type": "execute_result"
    }
   ],
   "source": [
    "yeniListe"
   ]
  },
  {
   "cell_type": "code",
   "execution_count": 6,
   "id": "3083669a",
   "metadata": {},
   "outputs": [
    {
     "data": {
      "text/plain": [
       "8"
      ]
     },
     "execution_count": 6,
     "metadata": {},
     "output_type": "execute_result"
    }
   ],
   "source": [
    "yeniListe[randint(0,9)]"
   ]
  },
  {
   "cell_type": "code",
   "execution_count": 7,
   "id": "7d3a65d6",
   "metadata": {},
   "outputs": [],
   "source": [
    "from random import shuffle"
   ]
  },
  {
   "cell_type": "code",
   "execution_count": 8,
   "id": "49022027",
   "metadata": {},
   "outputs": [],
   "source": [
    "shuffle(yeniListe)"
   ]
  },
  {
   "cell_type": "code",
   "execution_count": 9,
   "id": "9fa8ab98",
   "metadata": {},
   "outputs": [
    {
     "data": {
      "text/plain": [
       "[6, 2, 4, 9, 5, 0, 1, 3, 8, 7]"
      ]
     },
     "execution_count": 9,
     "metadata": {},
     "output_type": "execute_result"
    }
   ],
   "source": [
    "yeniListe"
   ]
  },
  {
   "cell_type": "markdown",
   "id": "6a5127bf",
   "metadata": {},
   "source": [
    "# zip"
   ]
  },
  {
   "cell_type": "code",
   "execution_count": 11,
   "id": "1ba5149b",
   "metadata": {},
   "outputs": [],
   "source": [
    "yemekListesi=[\"muz\",\"ananas\",\"elma\"]\n",
    "kaloriListesi=[100,200,300]\n",
    "gunListesi=[\"pazartesi\",\"salı\",\"çarşamba\"]"
   ]
  },
  {
   "cell_type": "code",
   "execution_count": 13,
   "id": "7c2b241e",
   "metadata": {},
   "outputs": [],
   "source": [
    "ziplenmisListe=list(zip(yemekListesi,kaloriListesi,gunListesi))"
   ]
  },
  {
   "cell_type": "code",
   "execution_count": 14,
   "id": "5b5b9059",
   "metadata": {},
   "outputs": [
    {
     "name": "stdout",
     "output_type": "stream",
     "text": [
      "<class 'tuple'>\n",
      "<class 'tuple'>\n",
      "<class 'tuple'>\n"
     ]
    }
   ],
   "source": [
    "for eleman in ziplenmisListe:\n",
    "    print(type(eleman))"
   ]
  },
  {
   "cell_type": "code",
   "execution_count": 15,
   "id": "5f6f7f99",
   "metadata": {},
   "outputs": [
    {
     "data": {
      "text/plain": [
       "[('muz', 100, 'pazartesi'), ('ananas', 200, 'salı'), ('elma', 300, 'çarşamba')]"
      ]
     },
     "execution_count": 15,
     "metadata": {},
     "output_type": "execute_result"
    }
   ],
   "source": [
    "ziplenmisListe"
   ]
  },
  {
   "cell_type": "markdown",
   "id": "f6d5b0c3",
   "metadata": {},
   "source": [
    "# listeler ileri seviye"
   ]
  },
  {
   "cell_type": "code",
   "execution_count": 24,
   "id": "af157330",
   "metadata": {},
   "outputs": [
    {
     "data": {
      "text/plain": [
       "['a',\n",
       " 't',\n",
       " 'ı',\n",
       " 'l',\n",
       " ' ',\n",
       " 's',\n",
       " 'a',\n",
       " 'm',\n",
       " 'a',\n",
       " 'n',\n",
       " 'c',\n",
       " 'ı',\n",
       " 'o',\n",
       " 'ğ',\n",
       " 'l',\n",
       " 'u']"
      ]
     },
     "execution_count": 24,
     "metadata": {},
     "output_type": "execute_result"
    }
   ],
   "source": [
    "listeOrnegi=[]\n",
    "benimString=\"atıl samancıoğlu\"\n",
    "for harf in benimString:\n",
    "    listeOrnegi.append(harf)\n",
    "yeniListeOrnegi"
   ]
  },
  {
   "cell_type": "code",
   "execution_count": 21,
   "id": "38efd78d",
   "metadata": {},
   "outputs": [],
   "source": [
    "yeniString =\"atıl samancıoğlu\""
   ]
  },
  {
   "cell_type": "code",
   "execution_count": 22,
   "id": "4263e661",
   "metadata": {},
   "outputs": [],
   "source": [
    "yeniListeOrnegi=[eleman for eleman in yeniString]"
   ]
  },
  {
   "cell_type": "code",
   "execution_count": 23,
   "id": "cbc7978c",
   "metadata": {},
   "outputs": [
    {
     "data": {
      "text/plain": [
       "['a',\n",
       " 't',\n",
       " 'ı',\n",
       " 'l',\n",
       " ' ',\n",
       " 's',\n",
       " 'a',\n",
       " 'm',\n",
       " 'a',\n",
       " 'n',\n",
       " 'c',\n",
       " 'ı',\n",
       " 'o',\n",
       " 'ğ',\n",
       " 'l',\n",
       " 'u']"
      ]
     },
     "execution_count": 23,
     "metadata": {},
     "output_type": "execute_result"
    }
   ],
   "source": [
    "yeniListeOrnegi"
   ]
  },
  {
   "cell_type": "code",
   "execution_count": 25,
   "id": "ef2535f4",
   "metadata": {},
   "outputs": [],
   "source": [
    "ikinciListeOrnegi=[numara*5 for numara in list(range(0,10))]"
   ]
  },
  {
   "cell_type": "code",
   "execution_count": 26,
   "id": "040ff810",
   "metadata": {},
   "outputs": [
    {
     "data": {
      "text/plain": [
       "[0, 5, 10, 15, 20, 25, 30, 35, 40, 45]"
      ]
     },
     "execution_count": 26,
     "metadata": {},
     "output_type": "execute_result"
    }
   ],
   "source": [
    "ikinciListeOrnegi"
   ]
  },
  {
   "cell_type": "code",
   "execution_count": null,
   "id": "bb20f9ad",
   "metadata": {},
   "outputs": [],
   "source": []
  }
 ],
 "metadata": {
  "kernelspec": {
   "display_name": "Python 3 (ipykernel)",
   "language": "python",
   "name": "python3"
  },
  "language_info": {
   "codemirror_mode": {
    "name": "ipython",
    "version": 3
   },
   "file_extension": ".py",
   "mimetype": "text/x-python",
   "name": "python",
   "nbconvert_exporter": "python",
   "pygments_lexer": "ipython3",
   "version": "3.11.5"
  }
 },
 "nbformat": 4,
 "nbformat_minor": 5
}
